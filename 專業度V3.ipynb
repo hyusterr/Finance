{
 "cells": [
  {
   "cell_type": "markdown",
   "metadata": {},
   "source": [
    "一樣先讀資料"
   ]
  },
  {
   "cell_type": "code",
   "execution_count": 1,
   "metadata": {},
   "outputs": [],
   "source": [
    "import pandas as pd\n",
    "import numpy as np"
   ]
  },
  {
   "cell_type": "code",
   "execution_count": 2,
   "metadata": {},
   "outputs": [],
   "source": [
    "college = pd.read_excel('學院科系V1.xlsx')"
   ]
  },
  {
   "cell_type": "code",
   "execution_count": 3,
   "metadata": {},
   "outputs": [
    {
     "data": {
      "text/html": [
       "<div>\n",
       "<style scoped>\n",
       "    .dataframe tbody tr th:only-of-type {\n",
       "        vertical-align: middle;\n",
       "    }\n",
       "\n",
       "    .dataframe tbody tr th {\n",
       "        vertical-align: top;\n",
       "    }\n",
       "\n",
       "    .dataframe thead th {\n",
       "        text-align: right;\n",
       "    }\n",
       "</style>\n",
       "<table border=\"1\" class=\"dataframe\">\n",
       "  <thead>\n",
       "    <tr style=\"text-align: right;\">\n",
       "      <th></th>\n",
       "      <th>院</th>\n",
       "      <th>系所</th>\n",
       "    </tr>\n",
       "  </thead>\n",
       "  <tbody>\n",
       "    <tr>\n",
       "      <th>0</th>\n",
       "      <td>工學院</td>\n",
       "      <td>土木工程</td>\n",
       "    </tr>\n",
       "    <tr>\n",
       "      <th>1</th>\n",
       "      <td>工學院</td>\n",
       "      <td>土木工程學</td>\n",
       "    </tr>\n",
       "    <tr>\n",
       "      <th>2</th>\n",
       "      <td>工學院</td>\n",
       "      <td>土木與防災碩、博士班</td>\n",
       "    </tr>\n",
       "    <tr>\n",
       "      <th>3</th>\n",
       "      <td>工學院</td>\n",
       "      <td>工工</td>\n",
       "    </tr>\n",
       "    <tr>\n",
       "      <th>4</th>\n",
       "      <td>工學院</td>\n",
       "      <td>工程科學</td>\n",
       "    </tr>\n",
       "  </tbody>\n",
       "</table>\n",
       "</div>"
      ],
      "text/plain": [
       "     院          系所\n",
       "0  工學院        土木工程\n",
       "1  工學院       土木工程學\n",
       "2  工學院  土木與防災碩、博士班\n",
       "3  工學院          工工\n",
       "4  工學院        工程科學"
      ]
     },
     "execution_count": 3,
     "metadata": {},
     "output_type": "execute_result"
    }
   ],
   "source": [
    "college.head()"
   ]
  },
  {
   "cell_type": "markdown",
   "metadata": {},
   "source": [
    "讀檔案並寫入專業度"
   ]
  },
  {
   "cell_type": "code",
   "execution_count": 4,
   "metadata": {},
   "outputs": [],
   "source": [
    "data_manager = pd.read_excel('2-1.董監經理人學經歷_金融業_2017.xlsx')\n",
    "data_manager = data_manager.drop(['資料源年月', '資料源', '資料截止日', '初任日期--董監事', '身份代碼', '獨立代碼', '會計主管', '財務主管', '重整代碼', '沿用日', '財務', '會計', '法務'], axis=1)"
   ]
  },
  {
   "cell_type": "code",
   "execution_count": 5,
   "metadata": {},
   "outputs": [],
   "source": [
    "data_man = data_manager.groupby(['姓名代碼'])"
   ]
  },
  {
   "cell_type": "code",
   "execution_count": 6,
   "metadata": {},
   "outputs": [],
   "source": [
    "df_final = pd.DataFrame()\n",
    "\n",
    "#keyword = ['大學', '學校', '系', '專科', '學院', '商專'] \n",
    "#可以辨別是否是學歷的關鍵字，有出現這些字則高度可能是學歷\n",
    "\n",
    "for name, group in data_man:\n",
    "    dftemp = group.drop(['行次', '學經歷及目前兼任說明'], axis=1).iloc[0]\n",
    "#     print(dftemp)\n",
    "    dftemp['學歷'] = ''\n",
    "    dftemp['經歷'] = ''\n",
    "    dftemp['目前兼任'] = ''\n",
    "#     print(dftemp)\n",
    "    for index, row in group.iterrows(): #偵測關鍵字，含有則填入學歷的欄位，若是教授則填入經歷\n",
    "        #(這裡原本想用\"學\"當作關鍵字，結果發現有職位叫\"學習型組織主管\"，只好改用複雜的方式處理\n",
    "#         print(row['行次'])\n",
    "        \n",
    "        if '大學' in row['學經歷及目前兼任說明']:\n",
    "            if '教授' in row['學經歷及目前兼任說明']:\n",
    "                dftemp['經歷'] += row['學經歷及目前兼任說明'] + '、'\n",
    "            else:\n",
    "                dftemp['學歷'] += row['學經歷及目前兼任說明'] \n",
    "        elif '學院' in row['學經歷及目前兼任說明']:\n",
    "            if '教授' in row['學經歷及目前兼任說明']:\n",
    "                dftemp['經歷'] += row['學經歷及目前兼任說明'] + '、'\n",
    "            else:\n",
    "                dftemp['學歷'] += row['學經歷及目前兼任說明']\n",
    "        elif '專科' in row['學經歷及目前兼任說明']:\n",
    "            if '教授' in row['學經歷及目前兼任說明']:\n",
    "                dftemp['經歷'] += row['學經歷及目前兼任說明'] + '、'\n",
    "            else:\n",
    "                dftemp['學歷'] += row['學經歷及目前兼任說明']\n",
    "        elif '學校' in row['學經歷及目前兼任說明']:\n",
    "            if '教授' in row['學經歷及目前兼任說明']:\n",
    "                dftemp['經歷'] += row['學經歷及目前兼任說明'] + '、'\n",
    "            else:\n",
    "                dftemp['學歷'] += row['學經歷及目前兼任說明']\n",
    "        elif '商專' in row['學經歷及目前兼任說明']:\n",
    "            if '教授' in row['學經歷及目前兼任說明']:\n",
    "                dftemp['經歷'] += row['學經歷及目前兼任說明'] + '、'\n",
    "            else:\n",
    "                dftemp['學歷'] += row['學經歷及目前兼任說明']\n",
    "        ### 可以再額外添加偵測的關鍵字 ###\n",
    "        \n",
    "        ### 在這裡以上 ###\n",
    "        elif row['行次'][0] == 'A': #其他的部分則按照 A=經歷，B=目前兼任的原則填入\n",
    "            dftemp['經歷'] += row['學經歷及目前兼任說明'] + '、'\n",
    "        elif row['行次'][0]  == 'B':\n",
    "            dftemp['目前兼任'] += row['學經歷及目前兼任說明'] + '、'\n",
    "    \n",
    "    df_final = df_final.append(dftemp)"
   ]
  },
  {
   "cell_type": "raw",
   "metadata": {
    "scrolled": true
   },
   "source": [
    "## df_final.head()"
   ]
  },
  {
   "cell_type": "code",
   "execution_count": 8,
   "metadata": {},
   "outputs": [],
   "source": [
    "df_tobewrite = (df_final.sort_values(by='公司代碼')).reset_index().drop(['index'], axis=1) #重設index"
   ]
  },
  {
   "cell_type": "code",
   "execution_count": 9,
   "metadata": {},
   "outputs": [],
   "source": [
    "df_tobewrite = df_tobewrite[['公司代碼', '董監經理人姓名', '初任日期--經理人', '初次選任日期--董監事', '姓名代碼', '學歷', '年資--經理人', '年資--董監事', '教育程度', '目前兼任', '經歷', '職位代碼', '職稱', '身份別', '選就任日', '類別代碼']]\n",
    "#調整欄位順序"
   ]
  },
  {
   "cell_type": "code",
   "execution_count": 10,
   "metadata": {},
   "outputs": [
    {
     "data": {
      "text/html": [
       "<div>\n",
       "<style scoped>\n",
       "    .dataframe tbody tr th:only-of-type {\n",
       "        vertical-align: middle;\n",
       "    }\n",
       "\n",
       "    .dataframe tbody tr th {\n",
       "        vertical-align: top;\n",
       "    }\n",
       "\n",
       "    .dataframe thead th {\n",
       "        text-align: right;\n",
       "    }\n",
       "</style>\n",
       "<table border=\"1\" class=\"dataframe\">\n",
       "  <thead>\n",
       "    <tr style=\"text-align: right;\">\n",
       "      <th></th>\n",
       "      <th>公司代碼</th>\n",
       "      <th>董監經理人姓名</th>\n",
       "      <th>初任日期--經理人</th>\n",
       "      <th>初次選任日期--董監事</th>\n",
       "      <th>姓名代碼</th>\n",
       "      <th>學歷</th>\n",
       "      <th>年資--經理人</th>\n",
       "      <th>年資--董監事</th>\n",
       "      <th>教育程度</th>\n",
       "      <th>目前兼任</th>\n",
       "      <th>經歷</th>\n",
       "      <th>職位代碼</th>\n",
       "      <th>職稱</th>\n",
       "      <th>身份別</th>\n",
       "      <th>選就任日</th>\n",
       "      <th>類別代碼</th>\n",
       "    </tr>\n",
       "  </thead>\n",
       "  <tbody>\n",
       "    <tr>\n",
       "      <th>0</th>\n",
       "      <td>2801 彰銀</td>\n",
       "      <td>劉建杉</td>\n",
       "      <td>2018/03</td>\n",
       "      <td>-</td>\n",
       "      <td>P000265011</td>\n",
       "      <td>國立中正大學財務金融研究所</td>\n",
       "      <td>-0.17</td>\n",
       "      <td>-</td>\n",
       "      <td>碩士</td>\n",
       "      <td>無、</td>\n",
       "      <td></td>\n",
       "      <td>8</td>\n",
       "      <td>紐約分行經理</td>\n",
       "      <td>經理</td>\n",
       "      <td>2018/03/01</td>\n",
       "      <td>3.0</td>\n",
       "    </tr>\n",
       "    <tr>\n",
       "      <th>1</th>\n",
       "      <td>2801 彰銀</td>\n",
       "      <td>邱福進</td>\n",
       "      <td>2014/03</td>\n",
       "      <td>-</td>\n",
       "      <td>P000203503</td>\n",
       "      <td>私立中國文化大學企業管理學系</td>\n",
       "      <td>3.83</td>\n",
       "      <td>-</td>\n",
       "      <td>大學</td>\n",
       "      <td>無、</td>\n",
       "      <td></td>\n",
       "      <td>8</td>\n",
       "      <td>楊梅分行經理</td>\n",
       "      <td>經理</td>\n",
       "      <td>2017/09/01</td>\n",
       "      <td>3.0</td>\n",
       "    </tr>\n",
       "    <tr>\n",
       "      <th>2</th>\n",
       "      <td>2801 彰銀</td>\n",
       "      <td>何文科</td>\n",
       "      <td>2014/03</td>\n",
       "      <td>-</td>\n",
       "      <td>P000203502</td>\n",
       "      <td>國立中興大學合作經濟學系</td>\n",
       "      <td>3.83</td>\n",
       "      <td>-</td>\n",
       "      <td>大學</td>\n",
       "      <td>無、</td>\n",
       "      <td></td>\n",
       "      <td>8</td>\n",
       "      <td>斗南分行經理</td>\n",
       "      <td>經理</td>\n",
       "      <td>2014/03/10</td>\n",
       "      <td>3.0</td>\n",
       "    </tr>\n",
       "    <tr>\n",
       "      <th>3</th>\n",
       "      <td>2801 彰銀</td>\n",
       "      <td>沈山鑫</td>\n",
       "      <td>2012/04</td>\n",
       "      <td>-</td>\n",
       "      <td>P000177169</td>\n",
       "      <td>私立致理技術學院財務金融學系</td>\n",
       "      <td>5.75</td>\n",
       "      <td>-</td>\n",
       "      <td>大學</td>\n",
       "      <td>無、</td>\n",
       "      <td></td>\n",
       "      <td>8</td>\n",
       "      <td>仁愛分行經理</td>\n",
       "      <td>經理</td>\n",
       "      <td>2017/05/01</td>\n",
       "      <td>3.0</td>\n",
       "    </tr>\n",
       "    <tr>\n",
       "      <th>4</th>\n",
       "      <td>2801 彰銀</td>\n",
       "      <td>羅順風</td>\n",
       "      <td>2007/04</td>\n",
       "      <td>-</td>\n",
       "      <td>P000149386</td>\n",
       "      <td>國防大學運籌管理研究所</td>\n",
       "      <td>10.75</td>\n",
       "      <td>-</td>\n",
       "      <td>碩士</td>\n",
       "      <td>無、</td>\n",
       "      <td></td>\n",
       "      <td>8</td>\n",
       "      <td>中壢分行經理</td>\n",
       "      <td>經理</td>\n",
       "      <td>2017/09/01</td>\n",
       "      <td>3.0</td>\n",
       "    </tr>\n",
       "  </tbody>\n",
       "</table>\n",
       "</div>"
      ],
      "text/plain": [
       "      公司代碼 董監經理人姓名 初任日期--經理人 初次選任日期--董監事        姓名代碼              學歷 年資--經理人  \\\n",
       "0  2801 彰銀     劉建杉   2018/03           -  P000265011   國立中正大學財務金融研究所   -0.17   \n",
       "1  2801 彰銀     邱福進   2014/03           -  P000203503  私立中國文化大學企業管理學系    3.83   \n",
       "2  2801 彰銀     何文科   2014/03           -  P000203502    國立中興大學合作經濟學系    3.83   \n",
       "3  2801 彰銀     沈山鑫   2012/04           -  P000177169  私立致理技術學院財務金融學系    5.75   \n",
       "4  2801 彰銀     羅順風   2007/04           -  P000149386     國防大學運籌管理研究所   10.75   \n",
       "\n",
       "  年資--董監事 教育程度 目前兼任 經歷 職位代碼      職稱 身份別        選就任日  類別代碼  \n",
       "0       -   碩士   無、       8  紐約分行經理  經理  2018/03/01   3.0  \n",
       "1       -   大學   無、       8  楊梅分行經理  經理  2017/09/01   3.0  \n",
       "2       -   大學   無、       8  斗南分行經理  經理  2014/03/10   3.0  \n",
       "3       -   大學   無、       8  仁愛分行經理  經理  2017/05/01   3.0  \n",
       "4       -   碩士   無、       8  中壢分行經理  經理  2017/09/01   3.0  "
      ]
     },
     "execution_count": 10,
     "metadata": {},
     "output_type": "execute_result"
    }
   ],
   "source": [
    "df_tobewrite.head()"
   ]
  },
  {
   "cell_type": "code",
   "execution_count": 11,
   "metadata": {},
   "outputs": [],
   "source": [
    "college_use = college.set_index('系所')"
   ]
  },
  {
   "cell_type": "code",
   "execution_count": 12,
   "metadata": {},
   "outputs": [],
   "source": [
    "def schoolparser(string): #清除大學以前的字的函數\n",
    "    quotation_word = ['大學', '商專', '學院'] #關鍵字們，在這之前的字會被去除掉\n",
    "    cut = ''\n",
    "    for word in quotation_word:\n",
    "        if word in string:\n",
    "            cut = word\n",
    "    if cut == '':\n",
    "        return string\n",
    "    else:\n",
    "        stringcut = string.split(cut)\n",
    "#     print(stringcut[1])\n",
    "        return stringcut[1]"
   ]
  },
  {
   "cell_type": "code",
   "execution_count": 13,
   "metadata": {},
   "outputs": [
    {
     "data": {
      "text/plain": [
       "'會計學系'"
      ]
     },
     "execution_count": 13,
     "metadata": {},
     "output_type": "execute_result"
    }
   ],
   "source": [
    "schoolparser('國立海洋大學會計學系')"
   ]
  },
  {
   "cell_type": "code",
   "execution_count": 14,
   "metadata": {},
   "outputs": [],
   "source": [
    "def whichcollege(string):\n",
    "    department = schoolparser(string) \n",
    "    j = 0\n",
    "    while  j < len(list(college_use.index)) and list(college_use.index)[j] not in department: \n",
    "        #檢測專業度資料表裡的科系關鍵字有沒有出現在該學歷裡\n",
    "        j = j + 1\n",
    "    if j < len(list(college_use.index)): #有存在則回傳對應的院\n",
    "        return college_use.loc[list(college_use.index)[j], '院']\n",
    "    elif j >= len(list(college_use.index)): #不存在則回傳無法辨別\n",
    "        return('無法辨別')"
   ]
  },
  {
   "cell_type": "code",
   "execution_count": 15,
   "metadata": {},
   "outputs": [
    {
     "data": {
      "text/plain": [
       "'無法辨別'"
      ]
     },
     "execution_count": 15,
     "metadata": {},
     "output_type": "execute_result"
    }
   ],
   "source": [
    "whichcollege('清華大學不存在學系')"
   ]
  },
  {
   "cell_type": "code",
   "execution_count": 16,
   "metadata": {},
   "outputs": [
    {
     "data": {
      "text/plain": [
       "'管理學院'"
      ]
     },
     "execution_count": 16,
     "metadata": {},
     "output_type": "execute_result"
    }
   ],
   "source": [
    "whichcollege('清華大學會計學系')"
   ]
  },
  {
   "cell_type": "code",
   "execution_count": 17,
   "metadata": {},
   "outputs": [
    {
     "data": {
      "text/plain": [
       "'管理學院'"
      ]
     },
     "execution_count": 17,
     "metadata": {},
     "output_type": "execute_result"
    }
   ],
   "source": [
    "whichcollege('國立海洋大學企業管理學系')"
   ]
  },
  {
   "cell_type": "code",
   "execution_count": 18,
   "metadata": {},
   "outputs": [],
   "source": [
    "df_tobewrite['學歷專業度'] = df_tobewrite['學歷'].map(whichcollege) #填入專業度"
   ]
  },
  {
   "cell_type": "code",
   "execution_count": 19,
   "metadata": {},
   "outputs": [
    {
     "data": {
      "text/html": [
       "<div>\n",
       "<style scoped>\n",
       "    .dataframe tbody tr th:only-of-type {\n",
       "        vertical-align: middle;\n",
       "    }\n",
       "\n",
       "    .dataframe tbody tr th {\n",
       "        vertical-align: top;\n",
       "    }\n",
       "\n",
       "    .dataframe thead th {\n",
       "        text-align: right;\n",
       "    }\n",
       "</style>\n",
       "<table border=\"1\" class=\"dataframe\">\n",
       "  <thead>\n",
       "    <tr style=\"text-align: right;\">\n",
       "      <th></th>\n",
       "      <th>公司代碼</th>\n",
       "      <th>董監經理人姓名</th>\n",
       "      <th>初任日期--經理人</th>\n",
       "      <th>初次選任日期--董監事</th>\n",
       "      <th>姓名代碼</th>\n",
       "      <th>學歷</th>\n",
       "      <th>年資--經理人</th>\n",
       "      <th>年資--董監事</th>\n",
       "      <th>教育程度</th>\n",
       "      <th>目前兼任</th>\n",
       "      <th>經歷</th>\n",
       "      <th>職位代碼</th>\n",
       "      <th>職稱</th>\n",
       "      <th>身份別</th>\n",
       "      <th>選就任日</th>\n",
       "      <th>類別代碼</th>\n",
       "      <th>學歷專業度</th>\n",
       "    </tr>\n",
       "  </thead>\n",
       "  <tbody>\n",
       "    <tr>\n",
       "      <th>0</th>\n",
       "      <td>2801 彰銀</td>\n",
       "      <td>劉建杉</td>\n",
       "      <td>2018/03</td>\n",
       "      <td>-</td>\n",
       "      <td>P000265011</td>\n",
       "      <td>國立中正大學財務金融研究所</td>\n",
       "      <td>-0.17</td>\n",
       "      <td>-</td>\n",
       "      <td>碩士</td>\n",
       "      <td>無、</td>\n",
       "      <td></td>\n",
       "      <td>8</td>\n",
       "      <td>紐約分行經理</td>\n",
       "      <td>經理</td>\n",
       "      <td>2018/03/01</td>\n",
       "      <td>3.0</td>\n",
       "      <td>管理學院</td>\n",
       "    </tr>\n",
       "    <tr>\n",
       "      <th>1</th>\n",
       "      <td>2801 彰銀</td>\n",
       "      <td>邱福進</td>\n",
       "      <td>2014/03</td>\n",
       "      <td>-</td>\n",
       "      <td>P000203503</td>\n",
       "      <td>私立中國文化大學企業管理學系</td>\n",
       "      <td>3.83</td>\n",
       "      <td>-</td>\n",
       "      <td>大學</td>\n",
       "      <td>無、</td>\n",
       "      <td></td>\n",
       "      <td>8</td>\n",
       "      <td>楊梅分行經理</td>\n",
       "      <td>經理</td>\n",
       "      <td>2017/09/01</td>\n",
       "      <td>3.0</td>\n",
       "      <td>管理學院</td>\n",
       "    </tr>\n",
       "    <tr>\n",
       "      <th>2</th>\n",
       "      <td>2801 彰銀</td>\n",
       "      <td>何文科</td>\n",
       "      <td>2014/03</td>\n",
       "      <td>-</td>\n",
       "      <td>P000203502</td>\n",
       "      <td>國立中興大學合作經濟學系</td>\n",
       "      <td>3.83</td>\n",
       "      <td>-</td>\n",
       "      <td>大學</td>\n",
       "      <td>無、</td>\n",
       "      <td></td>\n",
       "      <td>8</td>\n",
       "      <td>斗南分行經理</td>\n",
       "      <td>經理</td>\n",
       "      <td>2014/03/10</td>\n",
       "      <td>3.0</td>\n",
       "      <td>社會科學院</td>\n",
       "    </tr>\n",
       "    <tr>\n",
       "      <th>3</th>\n",
       "      <td>2801 彰銀</td>\n",
       "      <td>沈山鑫</td>\n",
       "      <td>2012/04</td>\n",
       "      <td>-</td>\n",
       "      <td>P000177169</td>\n",
       "      <td>私立致理技術學院財務金融學系</td>\n",
       "      <td>5.75</td>\n",
       "      <td>-</td>\n",
       "      <td>大學</td>\n",
       "      <td>無、</td>\n",
       "      <td></td>\n",
       "      <td>8</td>\n",
       "      <td>仁愛分行經理</td>\n",
       "      <td>經理</td>\n",
       "      <td>2017/05/01</td>\n",
       "      <td>3.0</td>\n",
       "      <td>管理學院</td>\n",
       "    </tr>\n",
       "    <tr>\n",
       "      <th>4</th>\n",
       "      <td>2801 彰銀</td>\n",
       "      <td>羅順風</td>\n",
       "      <td>2007/04</td>\n",
       "      <td>-</td>\n",
       "      <td>P000149386</td>\n",
       "      <td>國防大學運籌管理研究所</td>\n",
       "      <td>10.75</td>\n",
       "      <td>-</td>\n",
       "      <td>碩士</td>\n",
       "      <td>無、</td>\n",
       "      <td></td>\n",
       "      <td>8</td>\n",
       "      <td>中壢分行經理</td>\n",
       "      <td>經理</td>\n",
       "      <td>2017/09/01</td>\n",
       "      <td>3.0</td>\n",
       "      <td>管理學院</td>\n",
       "    </tr>\n",
       "  </tbody>\n",
       "</table>\n",
       "</div>"
      ],
      "text/plain": [
       "      公司代碼 董監經理人姓名 初任日期--經理人 初次選任日期--董監事        姓名代碼              學歷 年資--經理人  \\\n",
       "0  2801 彰銀     劉建杉   2018/03           -  P000265011   國立中正大學財務金融研究所   -0.17   \n",
       "1  2801 彰銀     邱福進   2014/03           -  P000203503  私立中國文化大學企業管理學系    3.83   \n",
       "2  2801 彰銀     何文科   2014/03           -  P000203502    國立中興大學合作經濟學系    3.83   \n",
       "3  2801 彰銀     沈山鑫   2012/04           -  P000177169  私立致理技術學院財務金融學系    5.75   \n",
       "4  2801 彰銀     羅順風   2007/04           -  P000149386     國防大學運籌管理研究所   10.75   \n",
       "\n",
       "  年資--董監事 教育程度 目前兼任 經歷 職位代碼      職稱 身份別        選就任日  類別代碼  學歷專業度  \n",
       "0       -   碩士   無、       8  紐約分行經理  經理  2018/03/01   3.0   管理學院  \n",
       "1       -   大學   無、       8  楊梅分行經理  經理  2017/09/01   3.0   管理學院  \n",
       "2       -   大學   無、       8  斗南分行經理  經理  2014/03/10   3.0  社會科學院  \n",
       "3       -   大學   無、       8  仁愛分行經理  經理  2017/05/01   3.0   管理學院  \n",
       "4       -   碩士   無、       8  中壢分行經理  經理  2017/09/01   3.0   管理學院  "
      ]
     },
     "execution_count": 19,
     "metadata": {},
     "output_type": "execute_result"
    }
   ],
   "source": [
    "df_tobewrite.head()"
   ]
  },
  {
   "cell_type": "code",
   "execution_count": 20,
   "metadata": {},
   "outputs": [],
   "source": [
    "df_tobewrite[['公司代碼', '董監經理人姓名', '初任日期--經理人', '初次選任日期--董監事', '姓名代碼', '學歷', '學歷專業度', '年資--經理人', '年資--董監事', '教育程度', '目前兼任', '經歷', '職位代碼', '職稱', '身份別', '選就任日', '類別代碼']].to_excel('test.xlsx', index=False)\n",
    "#也可以自己改檔名(把test換掉即可)"
   ]
  }
 ],
 "metadata": {
  "kernelspec": {
   "display_name": "Python 3",
   "language": "python",
   "name": "python3"
  },
  "language_info": {
   "codemirror_mode": {
    "name": "ipython",
    "version": 3
   },
   "file_extension": ".py",
   "mimetype": "text/x-python",
   "name": "python",
   "nbconvert_exporter": "python",
   "pygments_lexer": "ipython3",
   "version": "3.7.3"
  }
 },
 "nbformat": 4,
 "nbformat_minor": 2
}
