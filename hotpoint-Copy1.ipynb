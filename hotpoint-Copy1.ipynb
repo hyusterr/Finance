{
 "cells": [
  {
   "cell_type": "markdown",
   "metadata": {},
   "source": [
    "#### 引進所需套件"
   ]
  },
  {
   "cell_type": "code",
   "execution_count": 1,
   "metadata": {},
   "outputs": [],
   "source": [
    "import numpy as np\n",
    "import matplotlib\n",
    "import matplotlib.pyplot as plt\n",
    "import pandas as pd\n",
    "%matplotlib inline"
   ]
  },
  {
   "cell_type": "code",
   "execution_count": 2,
   "metadata": {},
   "outputs": [],
   "source": [
    "import datetime"
   ]
  },
  {
   "cell_type": "markdown",
   "metadata": {},
   "source": [
    "#### 執行並輸入欲察看公司之代碼，範例：2807 渣打銀行"
   ]
  },
  {
   "cell_type": "code",
   "execution_count": 30,
   "metadata": {},
   "outputs": [
    {
     "name": "stdout",
     "output_type": "stream",
     "text": [
      "公司代碼：2807\n"
     ]
    }
   ],
   "source": [
    "target = input('公司代碼：') #改成四碼即可"
   ]
  },
  {
   "cell_type": "markdown",
   "metadata": {},
   "source": [
    "#### 依次執行以下代碼(共三欄)"
   ]
  },
  {
   "cell_type": "code",
   "execution_count": 25,
   "metadata": {},
   "outputs": [],
   "source": [
    "def parser(string):\n",
    "    s = string.split('_')\n",
    "    return s[0]"
   ]
  },
  {
   "cell_type": "code",
   "execution_count": 26,
   "metadata": {},
   "outputs": [
    {
     "data": {
      "text/plain": [
       "'4E'"
      ]
     },
     "execution_count": 26,
     "metadata": {},
     "output_type": "execute_result"
    }
   ],
   "source": [
    "parser('4E_客戶及產品－諮詢服務')"
   ]
  },
  {
   "cell_type": "code",
   "execution_count": 27,
   "metadata": {},
   "outputs": [
    {
     "data": {
      "text/html": [
       "<div>\n",
       "<style scoped>\n",
       "    .dataframe tbody tr th:only-of-type {\n",
       "        vertical-align: middle;\n",
       "    }\n",
       "\n",
       "    .dataframe tbody tr th {\n",
       "        vertical-align: top;\n",
       "    }\n",
       "\n",
       "    .dataframe thead th {\n",
       "        text-align: right;\n",
       "    }\n",
       "</style>\n",
       "<table border=\"1\" class=\"dataframe\">\n",
       "  <thead>\n",
       "    <tr style=\"text-align: right;\">\n",
       "      <th></th>\n",
       "      <th>公司</th>\n",
       "      <th>簡稱</th>\n",
       "      <th>事件日</th>\n",
       "      <th>大事件類別</th>\n",
       "      <th>小事件類別</th>\n",
       "      <th>事件內容</th>\n",
       "    </tr>\n",
       "  </thead>\n",
       "  <tbody>\n",
       "    <tr>\n",
       "      <th>0</th>\n",
       "      <td>55</td>\n",
       "      <td>德意志銀行</td>\n",
       "      <td>20141128</td>\n",
       "      <td>M_經營層</td>\n",
       "      <td>4E_客戶及產品－諮詢服務</td>\n",
       "      <td>於2014-11-28，未依金管會函示原則，對國內機構法人客戶提供海外金融商品資訊及諮詢服務</td>\n",
       "    </tr>\n",
       "    <tr>\n",
       "      <th>1</th>\n",
       "      <td>55</td>\n",
       "      <td>德意志銀行</td>\n",
       "      <td>20150609</td>\n",
       "      <td>M_經營層</td>\n",
       "      <td>1A_內部詐欺－未經授權行為</td>\n",
       "      <td>於2015-04-30，提供營業場所及設備協助境外機構人員從事金融服務之情事，處200萬元罰鍰</td>\n",
       "    </tr>\n",
       "    <tr>\n",
       "      <th>2</th>\n",
       "      <td>60</td>\n",
       "      <td>法國巴黎銀行</td>\n",
       "      <td>20150609</td>\n",
       "      <td>M_經營層</td>\n",
       "      <td>1A_內部詐欺－未經授權行為</td>\n",
       "      <td>於2015-04-10，提供營業場所及設備協助境外機構人員從事金融服務之情事，處200萬元罰鍰</td>\n",
       "    </tr>\n",
       "    <tr>\n",
       "      <th>3</th>\n",
       "      <td>60</td>\n",
       "      <td>法國巴黎銀行</td>\n",
       "      <td>20170817</td>\n",
       "      <td>M_經營層</td>\n",
       "      <td>7A_作業流程－交易紀錄</td>\n",
       "      <td>於2017-08-17，台北分行暨國際金融業務分行辦理金融商品業務核有缺失，依銀行法應予糾正</td>\n",
       "    </tr>\n",
       "    <tr>\n",
       "      <th>4</th>\n",
       "      <td>72</td>\n",
       "      <td>澳商澳盛銀行</td>\n",
       "      <td>20130514</td>\n",
       "      <td>M_經營層</td>\n",
       "      <td>7A_作業流程－交易紀錄</td>\n",
       "      <td>於2013-05-14，台北分行出售不良債權之作業流程未臻嚴謹，應予糾正</td>\n",
       "    </tr>\n",
       "  </tbody>\n",
       "</table>\n",
       "</div>"
      ],
      "text/plain": [
       "   公司      簡稱       事件日  大事件類別           小事件類別  \\\n",
       "0  55   德意志銀行  20141128  M_經營層   4E_客戶及產品－諮詢服務   \n",
       "1  55   德意志銀行  20150609  M_經營層  1A_內部詐欺－未經授權行為   \n",
       "2  60  法國巴黎銀行  20150609  M_經營層  1A_內部詐欺－未經授權行為   \n",
       "3  60  法國巴黎銀行  20170817  M_經營層    7A_作業流程－交易紀錄   \n",
       "4  72  澳商澳盛銀行  20130514  M_經營層    7A_作業流程－交易紀錄   \n",
       "\n",
       "                                              事件內容  \n",
       "0   於2014-11-28，未依金管會函示原則，對國內機構法人客戶提供海外金融商品資訊及諮詢服務  \n",
       "1  於2015-04-30，提供營業場所及設備協助境外機構人員從事金融服務之情事，處200萬元罰鍰  \n",
       "2  於2015-04-10，提供營業場所及設備協助境外機構人員從事金融服務之情事，處200萬元罰鍰  \n",
       "3   於2017-08-17，台北分行暨國際金融業務分行辦理金融商品業務核有缺失，依銀行法應予糾正  \n",
       "4             於2013-05-14，台北分行出售不良債權之作業流程未臻嚴謹，應予糾正  "
      ]
     },
     "execution_count": 27,
     "metadata": {},
     "output_type": "execute_result"
    }
   ],
   "source": [
    "df = pd.read_excel('看門狗金融業20130101-20190219 merage.xlsx') #讀檔案\n",
    "df.head()"
   ]
  },
  {
   "cell_type": "code",
   "execution_count": 28,
   "metadata": {},
   "outputs": [
    {
     "data": {
      "text/html": [
       "<div>\n",
       "<style scoped>\n",
       "    .dataframe tbody tr th:only-of-type {\n",
       "        vertical-align: middle;\n",
       "    }\n",
       "\n",
       "    .dataframe tbody tr th {\n",
       "        vertical-align: top;\n",
       "    }\n",
       "\n",
       "    .dataframe thead th {\n",
       "        text-align: right;\n",
       "    }\n",
       "</style>\n",
       "<table border=\"1\" class=\"dataframe\">\n",
       "  <thead>\n",
       "    <tr style=\"text-align: right;\">\n",
       "      <th></th>\n",
       "      <th>公司</th>\n",
       "      <th>簡稱</th>\n",
       "      <th>事件日</th>\n",
       "      <th>大事件類別</th>\n",
       "      <th>小事件類別</th>\n",
       "      <th>事件內容</th>\n",
       "    </tr>\n",
       "  </thead>\n",
       "  <tbody>\n",
       "    <tr>\n",
       "      <th>0</th>\n",
       "      <td>55</td>\n",
       "      <td>德意志銀行</td>\n",
       "      <td>20141128</td>\n",
       "      <td>M_經營層</td>\n",
       "      <td>4E</td>\n",
       "      <td>於2014-11-28，未依金管會函示原則，對國內機構法人客戶提供海外金融商品資訊及諮詢服務</td>\n",
       "    </tr>\n",
       "    <tr>\n",
       "      <th>1</th>\n",
       "      <td>55</td>\n",
       "      <td>德意志銀行</td>\n",
       "      <td>20150609</td>\n",
       "      <td>M_經營層</td>\n",
       "      <td>1A</td>\n",
       "      <td>於2015-04-30，提供營業場所及設備協助境外機構人員從事金融服務之情事，處200萬元罰鍰</td>\n",
       "    </tr>\n",
       "    <tr>\n",
       "      <th>2</th>\n",
       "      <td>60</td>\n",
       "      <td>法國巴黎銀行</td>\n",
       "      <td>20150609</td>\n",
       "      <td>M_經營層</td>\n",
       "      <td>1A</td>\n",
       "      <td>於2015-04-10，提供營業場所及設備協助境外機構人員從事金融服務之情事，處200萬元罰鍰</td>\n",
       "    </tr>\n",
       "    <tr>\n",
       "      <th>3</th>\n",
       "      <td>60</td>\n",
       "      <td>法國巴黎銀行</td>\n",
       "      <td>20170817</td>\n",
       "      <td>M_經營層</td>\n",
       "      <td>7A</td>\n",
       "      <td>於2017-08-17，台北分行暨國際金融業務分行辦理金融商品業務核有缺失，依銀行法應予糾正</td>\n",
       "    </tr>\n",
       "    <tr>\n",
       "      <th>4</th>\n",
       "      <td>72</td>\n",
       "      <td>澳商澳盛銀行</td>\n",
       "      <td>20130514</td>\n",
       "      <td>M_經營層</td>\n",
       "      <td>7A</td>\n",
       "      <td>於2013-05-14，台北分行出售不良債權之作業流程未臻嚴謹，應予糾正</td>\n",
       "    </tr>\n",
       "  </tbody>\n",
       "</table>\n",
       "</div>"
      ],
      "text/plain": [
       "   公司      簡稱       事件日  大事件類別 小事件類別  \\\n",
       "0  55   德意志銀行  20141128  M_經營層    4E   \n",
       "1  55   德意志銀行  20150609  M_經營層    1A   \n",
       "2  60  法國巴黎銀行  20150609  M_經營層    1A   \n",
       "3  60  法國巴黎銀行  20170817  M_經營層    7A   \n",
       "4  72  澳商澳盛銀行  20130514  M_經營層    7A   \n",
       "\n",
       "                                              事件內容  \n",
       "0   於2014-11-28，未依金管會函示原則，對國內機構法人客戶提供海外金融商品資訊及諮詢服務  \n",
       "1  於2015-04-30，提供營業場所及設備協助境外機構人員從事金融服務之情事，處200萬元罰鍰  \n",
       "2  於2015-04-10，提供營業場所及設備協助境外機構人員從事金融服務之情事，處200萬元罰鍰  \n",
       "3   於2017-08-17，台北分行暨國際金融業務分行辦理金融商品業務核有缺失，依銀行法應予糾正  \n",
       "4             於2013-05-14，台北分行出售不良債權之作業流程未臻嚴謹，應予糾正  "
      ]
     },
     "execution_count": 28,
     "metadata": {},
     "output_type": "execute_result"
    }
   ],
   "source": [
    "df = pd.read_excel('看門狗金融業20130101-20190219 merage.xlsx') #讀檔案\n",
    "df['小事件類別'] = df['小事件類別'].map(parser) #讓資料格裡的資料只剩代碼\n",
    "df['公司'] = df['公司'].map(str) #公司代碼轉為字串\n",
    "df.head()"
   ]
  },
  {
   "cell_type": "code",
   "execution_count": 36,
   "metadata": {},
   "outputs": [
    {
     "name": "stdout",
     "output_type": "stream",
     "text": [
      "2016-12-09 00:00:00\n"
     ]
    }
   ],
   "source": [
    "date = datetime.datetime.strptime('20161209', '%Y%m%d')\n"
   ]
  },
  {
   "cell_type": "code",
   "execution_count": 31,
   "metadata": {},
   "outputs": [
    {
     "ename": "TypeError",
     "evalue": "invalid type comparison",
     "output_type": "error",
     "traceback": [
      "\u001b[1;31m---------------------------------------------------------------------------\u001b[0m",
      "\u001b[1;31mTypeError\u001b[0m                                 Traceback (most recent call last)",
      "\u001b[1;32m<ipython-input-31-534d7319cd1e>\u001b[0m in \u001b[0;36m<module>\u001b[1;34m()\u001b[0m\n\u001b[0;32m      4\u001b[0m \u001b[1;32mfor\u001b[0m \u001b[0myear\u001b[0m \u001b[1;32min\u001b[0m \u001b[0mrange\u001b[0m\u001b[1;33m(\u001b[0m\u001b[1;36m19\u001b[0m\u001b[1;33m)\u001b[0m\u001b[1;33m:\u001b[0m\u001b[1;33m\u001b[0m\u001b[0m\n\u001b[0;32m      5\u001b[0m     \u001b[1;32mif\u001b[0m \u001b[0myear\u001b[0m \u001b[1;33m<\u001b[0m \u001b[1;36m10\u001b[0m\u001b[1;33m:\u001b[0m\u001b[1;33m\u001b[0m\u001b[0m\n\u001b[1;32m----> 6\u001b[1;33m         \u001b[0mmask\u001b[0m \u001b[1;33m=\u001b[0m \u001b[1;33m(\u001b[0m\u001b[0mdftry\u001b[0m\u001b[1;33m[\u001b[0m\u001b[1;34m'事件日'\u001b[0m\u001b[1;33m]\u001b[0m \u001b[1;33m>=\u001b[0m \u001b[1;34m'200'\u001b[0m\u001b[1;33m+\u001b[0m\u001b[0mstr\u001b[0m\u001b[1;33m(\u001b[0m\u001b[0myear\u001b[0m\u001b[1;33m)\u001b[0m\u001b[1;33m+\u001b[0m\u001b[1;34m'-1-1'\u001b[0m\u001b[1;33m)\u001b[0m \u001b[1;33m&\u001b[0m \u001b[1;33m(\u001b[0m\u001b[0mdftry\u001b[0m\u001b[1;33m[\u001b[0m\u001b[1;34m'事件日'\u001b[0m\u001b[1;33m]\u001b[0m \u001b[1;33m<=\u001b[0m \u001b[1;34m'200'\u001b[0m\u001b[1;33m+\u001b[0m\u001b[0mstr\u001b[0m\u001b[1;33m(\u001b[0m\u001b[0myear\u001b[0m\u001b[1;33m)\u001b[0m\u001b[1;33m+\u001b[0m\u001b[1;34m'-12-31'\u001b[0m\u001b[1;33m)\u001b[0m\u001b[1;33m\u001b[0m\u001b[0m\n\u001b[0m\u001b[0;32m      7\u001b[0m         \u001b[0mvector\u001b[0m \u001b[1;33m=\u001b[0m \u001b[1;33m[\u001b[0m\u001b[1;36m0\u001b[0m\u001b[1;33m]\u001b[0m\u001b[1;33m*\u001b[0m\u001b[1;36m35\u001b[0m\u001b[1;33m\u001b[0m\u001b[0m\n\u001b[0;32m      8\u001b[0m         \u001b[1;32mfor\u001b[0m \u001b[0mevent\u001b[0m \u001b[1;32min\u001b[0m \u001b[0mdftry\u001b[0m\u001b[1;33m.\u001b[0m\u001b[0mloc\u001b[0m\u001b[1;33m[\u001b[0m\u001b[0mmask\u001b[0m\u001b[1;33m]\u001b[0m\u001b[1;33m.\u001b[0m\u001b[0mloc\u001b[0m\u001b[1;33m[\u001b[0m\u001b[1;33m:\u001b[0m\u001b[1;33m,\u001b[0m\u001b[1;34m'小事件類別'\u001b[0m\u001b[1;33m]\u001b[0m\u001b[1;33m:\u001b[0m\u001b[1;33m\u001b[0m\u001b[0m\n",
      "\u001b[1;32md:\\python3.6\\lib\\site-packages\\pandas\\core\\ops.py\u001b[0m in \u001b[0;36mwrapper\u001b[1;34m(self, other, axis)\u001b[0m\n\u001b[0;32m   1251\u001b[0m \u001b[1;33m\u001b[0m\u001b[0m\n\u001b[0;32m   1252\u001b[0m             \u001b[1;32mwith\u001b[0m \u001b[0mnp\u001b[0m\u001b[1;33m.\u001b[0m\u001b[0merrstate\u001b[0m\u001b[1;33m(\u001b[0m\u001b[0mall\u001b[0m\u001b[1;33m=\u001b[0m\u001b[1;34m'ignore'\u001b[0m\u001b[1;33m)\u001b[0m\u001b[1;33m:\u001b[0m\u001b[1;33m\u001b[0m\u001b[0m\n\u001b[1;32m-> 1253\u001b[1;33m                 \u001b[0mres\u001b[0m \u001b[1;33m=\u001b[0m \u001b[0mna_op\u001b[0m\u001b[1;33m(\u001b[0m\u001b[0mvalues\u001b[0m\u001b[1;33m,\u001b[0m \u001b[0mother\u001b[0m\u001b[1;33m)\u001b[0m\u001b[1;33m\u001b[0m\u001b[0m\n\u001b[0m\u001b[0;32m   1254\u001b[0m             \u001b[1;32mif\u001b[0m \u001b[0mis_scalar\u001b[0m\u001b[1;33m(\u001b[0m\u001b[0mres\u001b[0m\u001b[1;33m)\u001b[0m\u001b[1;33m:\u001b[0m\u001b[1;33m\u001b[0m\u001b[0m\n\u001b[0;32m   1255\u001b[0m                 raise TypeError('Could not compare {typ} type with Series'\n",
      "\u001b[1;32md:\\python3.6\\lib\\site-packages\\pandas\\core\\ops.py\u001b[0m in \u001b[0;36mna_op\u001b[1;34m(x, y)\u001b[0m\n\u001b[0;32m   1164\u001b[0m                     \u001b[0mresult\u001b[0m \u001b[1;33m=\u001b[0m \u001b[0mmethod\u001b[0m\u001b[1;33m(\u001b[0m\u001b[0my\u001b[0m\u001b[1;33m)\u001b[0m\u001b[1;33m\u001b[0m\u001b[0m\n\u001b[0;32m   1165\u001b[0m                 \u001b[1;32mif\u001b[0m \u001b[0mresult\u001b[0m \u001b[1;32mis\u001b[0m \u001b[0mNotImplemented\u001b[0m\u001b[1;33m:\u001b[0m\u001b[1;33m\u001b[0m\u001b[0m\n\u001b[1;32m-> 1166\u001b[1;33m                     \u001b[1;32mraise\u001b[0m \u001b[0mTypeError\u001b[0m\u001b[1;33m(\u001b[0m\u001b[1;34m\"invalid type comparison\"\u001b[0m\u001b[1;33m)\u001b[0m\u001b[1;33m\u001b[0m\u001b[0m\n\u001b[0m\u001b[0;32m   1167\u001b[0m             \u001b[1;32melse\u001b[0m\u001b[1;33m:\u001b[0m\u001b[1;33m\u001b[0m\u001b[0m\n\u001b[0;32m   1168\u001b[0m                 \u001b[0mresult\u001b[0m \u001b[1;33m=\u001b[0m \u001b[0mop\u001b[0m\u001b[1;33m(\u001b[0m\u001b[0mx\u001b[0m\u001b[1;33m,\u001b[0m \u001b[0my\u001b[0m\u001b[1;33m)\u001b[0m\u001b[1;33m\u001b[0m\u001b[0m\n",
      "\u001b[1;31mTypeError\u001b[0m: invalid type comparison"
     ]
    }
   ],
   "source": [
    "dftry = df[df['公司'] == target]\n",
    "\n",
    "profile2087 = []\n",
    "for year in range(19):\n",
    "    if year < 10:\n",
    "        mask = (dftry['事件日'] >= datetime.datetime.strptime('200'+str(year)+'0101', '%Y%m%d')) & (dftry['事件日'] <= datetime.datetime.strptime('200'+str(year)+'1231', '%Y%m%d'))\n",
    "        vector = [0]*35\n",
    "        for event in dftry.loc[mask].loc[:,'小事件類別']:\n",
    "            for i in range(len(type_vector)):\n",
    "                if event == type_vector[i]:\n",
    "                    vector[i] += 1\n",
    "        profile2087.append(vector)\n",
    "    else:\n",
    "        mask = (dftry['事件日'] >= '20'+str(year)+'-1-1') & (dftry['事件日'] <= '20'+str(year)+'-12-31')\n",
    "        vector = [0]*35\n",
    "        for event in dftry.loc[mask].loc[:,'小事件類別']:\n",
    "            for i in range(len(type_vector)):\n",
    "                if event == type_vector[i]:\n",
    "                    vector[i] += 1\n",
    "        profile2087.append(vector)\n",
    "\n"
   ]
  },
  {
   "cell_type": "code",
   "execution_count": null,
   "metadata": {},
   "outputs": [],
   "source": [
    "data2087 = pd.DataFrame(profile2087, columns=type_vector)\n",
    "correlations2087 = data2087.corr()\n",
    "\n",
    "year_vector = []\n",
    "for year in range(19):\n",
    "    if year < 10:\n",
    "        year_vector.append('200' + str(year))\n",
    "    else:\n",
    "        year_vector.append('20' + str(year))\n",
    "        \n",
    "event_occur_by_year = pd.DataFrame(profile2087, columns=type_vector, index=year_vector)\n",
    "\n",
    "event_T = event_occur_by_year.transpose()\n",
    "\n",
    "draw_list = []\n",
    "for i in range(35):\n",
    "    for j in range(19):\n",
    "        test = event_T.iloc[i,j]\n",
    "        if test != 0:\n",
    "            draw_list.append([list(event_T.index)[i], list(event_T)[j], test])\n",
    "            \n",
    "draw_df = pd.DataFrame(draw_list, columns=['event','year','size'])\n",
    "draw_df[\"color\"] = \"\"\n",
    "for i in range(len(draw_df.index)):\n",
    "    data = draw_df.iloc[i , 0]\n",
    "    if data[0] == 'A':\n",
    "        draw_df.iloc[i, 3] = ['blue']\n",
    "    if data[0] == 'F':\n",
    "        draw_df.iloc[i, 3] = ['orange']\n",
    "    if data[0] == 'I':\n",
    "        draw_df.iloc[i, 3] = ['black']\n",
    "    if data[0] == 'M':\n",
    "        draw_df.iloc[i, 3] = ['green']\n",
    "    if data[0] == 'R':\n",
    "        draw_df.iloc[i, 3] = ['red']        \n",
    "    if data[:2] == '4B':\n",
    "        draw_df.iloc[i, 3] = ['gray']\n",
    "    if data[:2] == '7B':\n",
    "        draw_df.iloc[i, 3] = ['purple']\n",
    "        \n",
    "dicty = {'4B':1, '7B':2, 'AF02':3, 'AF06':4, 'AI01':5, 'AI02':6, 'AI03':7, 'FS01':8, 'FS02':9, \n",
    "'FS03':10, 'IF01':11, 'IF02':12, 'IH02':13, 'IL01':14, 'IP03':15, 'IS01':16, 'IS02':17, 'IS03':18, \n",
    "'MC01':19, 'MC03':20, 'MO01':21, 'MO04':22, 'MO05':23, 'MO06':24, 'MT02':25, 'MT04':26, 'MT05':27, \n",
    "'MT06':28, 'RB04':29, 'RB07':30, 'RB10':31, 'RB13':32, 'RD02':33, 'RD06':34, 'RD07':35}\n",
    "\n",
    "draw_df[\"y\"] = \"\"\n",
    "\n",
    "for i in range(len(draw_df.index)):\n",
    "    data = draw_df.iloc[i , 0]\n",
    "    draw_df.iloc[i, 4] = [dicty[data]]\n",
    "    \n",
    "draw_df[\"x\"] = \"\"\n",
    "\n",
    "for i in range(len(draw_df.index)):\n",
    "    data = draw_df.iloc[i , 1]\n",
    "    draw_df.iloc[i, 5] = [int(data)]\n"
   ]
  },
  {
   "cell_type": "code",
   "execution_count": 6,
   "metadata": {},
   "outputs": [
    {
     "name": "stdout",
     "output_type": "stream",
     "text": [
      "['1A', '1B', '2A', '2B', '3A', '3B', '4A', '4B', '4D', '4E', '6A', '7A', '7B', '7C', '7D', '7E', '7F', 'AF02', 'AF04', 'AF06', 'AI01', 'FS01', 'FS03', 'FS04', 'FS05', 'IF01', 'IF02', 'IF03', 'IH02', 'IL01', 'IP01', 'IP02', 'IP03', 'IS01', 'IS02', 'IS03', 'MC01', 'MC03', 'MO01', 'MO04', 'MO05', 'MO06', 'MT01', 'MT02', 'MT04', 'MT05', 'MT06', 'RB03', 'RB04', 'RB10', 'RB11', 'RB13', 'RD03', 'RD05', 'RD06', 'RD07']\n"
     ]
    }
   ],
   "source": [
    "types = []\n",
    "for item in df.loc[:,'小事件類別']:\n",
    "    if item not in types:\n",
    "        types.append(item)\n",
    "        \n",
    "type_vector = (sorted(types))\n",
    "\n",
    "print(type_vector)"
   ]
  },
  {
   "cell_type": "code",
   "execution_count": null,
   "metadata": {},
   "outputs": [],
   "source": []
  },
  {
   "cell_type": "markdown",
   "metadata": {},
   "source": [
    "#### 各事件相關heatmap"
   ]
  },
  {
   "cell_type": "code",
   "execution_count": null,
   "metadata": {},
   "outputs": [],
   "source": [
    "fig, ax = plt.subplots(figsize=(18,18))\n",
    "im = ax.imshow(correlations2087)\n",
    "\n",
    "# correlations = data.corr()\n",
    "# We want to show all ticks...\n",
    "ax.set_xticks(np.arange(len(type_vector)))\n",
    "ax.set_yticks(np.arange(len(type_vector)))\n",
    "# ... and label them with the respective list entries\n",
    "ax.set_xticklabels(type_vector)\n",
    "# plt.gca().get_xticklabels()[-6:].set_color(\"red\")\n",
    "ax.set_yticklabels(type_vector)\n",
    "# plt.gca().get_yticklabels()[-6:].set_color(\"red\")\n",
    "\n",
    "for i in range(-7,0):\n",
    "    plt.gca().get_xticklabels()[i].set_color(\"red\")\n",
    "    plt.gca().get_yticklabels()[i].set_color(\"red\")\n",
    "\n",
    "\n",
    "# cax = ax.matshow(correlations2087, vmin=-1, vmax=1)\n",
    "# fig.colorbar(cax)\n",
    "\n",
    "\n",
    "plt.show()"
   ]
  },
  {
   "cell_type": "markdown",
   "metadata": {},
   "source": [
    "黃色代表corraltion=1 藍色代表correlation=-1"
   ]
  },
  {
   "cell_type": "code",
   "execution_count": null,
   "metadata": {},
   "outputs": [],
   "source": [
    "plt.figure(figsize=(9,10))\n",
    "\n",
    "plt.xlim((1999,2019))\n",
    "plt.ylim((0,36))\n",
    "\n",
    "plt.xticks(np.arange(2000,2019), year_vector)\n",
    "plt.yticks(np.arange(1,36), type_vector)\n",
    "\n",
    "plt.grid()\n",
    "\n",
    "plt.scatter(x=draw_df['x'], y=draw_df['y'], s=draw_df['size']*30, c= draw_df['color'])"
   ]
  },
  {
   "cell_type": "markdown",
   "metadata": {},
   "source": [
    "點的大小代表發生次數多寡\n",
    "\n",
    "顏色意義：\n",
    "\n",
    "藍色：A類事件\n",
    "\n",
    "橘色：F類事件\n",
    "\n",
    "黑色：I類事件\n",
    "\n",
    "綠色：M類事件\n",
    "\n",
    "紅色：R類事件\n",
    "\n",
    "灰色：4B事件\n",
    "\n",
    "紫色：7B事件"
   ]
  },
  {
   "cell_type": "raw",
   "metadata": {},
   "source": []
  }
 ],
 "metadata": {
  "kernelspec": {
   "display_name": "Python 3",
   "language": "python",
   "name": "python3"
  },
  "language_info": {
   "codemirror_mode": {
    "name": "ipython",
    "version": 3
   },
   "file_extension": ".py",
   "mimetype": "text/x-python",
   "name": "python",
   "nbconvert_exporter": "python",
   "pygments_lexer": "ipython3",
   "version": "3.6.4"
  }
 },
 "nbformat": 4,
 "nbformat_minor": 2
}
