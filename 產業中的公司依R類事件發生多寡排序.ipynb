{
 "cells": [
  {
   "cell_type": "code",
   "execution_count": 1,
   "metadata": {},
   "outputs": [],
   "source": [
    "import pandas as pd #引進所需套件"
   ]
  },
  {
   "cell_type": "raw",
   "metadata": {},
   "source": [
    "industry_code = {'11':'水泥工業', '12':'食品工業', '13':'塑膠工業',\n",
    "                 '14':'紡織工業', '15':'電機機械', '16':'電器電纜', \n",
    "                 '17':'化學生技醫療', '18':'玻璃陶瓷', '19':'造紙工業', \n",
    "                 '20':'鋼鐵工業', '21':'橡膠工業', '22':'汽車工業', \n",
    "                 '23':'電子工業', '25':'建材營造', '26':'航運', \n",
    "                 '27':'觀光', '28':'金融保險', '29':'貿易百貨', \n",
    "                 '30':'證券', '31':'投資信託', '98':'綜合',\n",
    "                 '99':'其他', '97':'油電燃氣'} #代號充滿問題，暫且不用"
   ]
  },
  {
   "cell_type": "code",
   "execution_count": 2,
   "metadata": {},
   "outputs": [],
   "source": [
    "category = '26'"
   ]
  },
  {
   "cell_type": "code",
   "execution_count": 3,
   "metadata": {},
   "outputs": [
    {
     "data": {
      "text/html": [
       "<div>\n",
       "<style scoped>\n",
       "    .dataframe tbody tr th:only-of-type {\n",
       "        vertical-align: middle;\n",
       "    }\n",
       "\n",
       "    .dataframe tbody tr th {\n",
       "        vertical-align: top;\n",
       "    }\n",
       "\n",
       "    .dataframe thead th {\n",
       "        text-align: right;\n",
       "    }\n",
       "</style>\n",
       "<table border=\"1\" class=\"dataframe\">\n",
       "  <thead>\n",
       "    <tr style=\"text-align: right;\">\n",
       "      <th></th>\n",
       "      <th>公司</th>\n",
       "      <th>產業別</th>\n",
       "      <th>R類事件數</th>\n",
       "    </tr>\n",
       "  </thead>\n",
       "  <tbody>\n",
       "    <tr>\n",
       "      <th>83</th>\n",
       "      <td>2609 陽明</td>\n",
       "      <td>26</td>\n",
       "      <td>5.0</td>\n",
       "    </tr>\n",
       "    <tr>\n",
       "      <th>81</th>\n",
       "      <td>2601 益航</td>\n",
       "      <td>26</td>\n",
       "      <td>3.0</td>\n",
       "    </tr>\n",
       "    <tr>\n",
       "      <th>82</th>\n",
       "      <td>2603 長榮</td>\n",
       "      <td>26</td>\n",
       "      <td>2.0</td>\n",
       "    </tr>\n",
       "    <tr>\n",
       "      <th>85</th>\n",
       "      <td>2641 正德</td>\n",
       "      <td>26</td>\n",
       "      <td>1.0</td>\n",
       "    </tr>\n",
       "    <tr>\n",
       "      <th>84</th>\n",
       "      <td>2614 東森</td>\n",
       "      <td>26</td>\n",
       "      <td>0.0</td>\n",
       "    </tr>\n",
       "  </tbody>\n",
       "</table>\n",
       "</div>"
      ],
      "text/plain": [
       "         公司 產業別  R類事件數\n",
       "83  2609 陽明  26    5.0\n",
       "81  2601 益航  26    3.0\n",
       "82  2603 長榮  26    2.0\n",
       "85  2641 正德  26    1.0\n",
       "84  2614 東森  26    0.0"
      ]
     },
     "execution_count": 3,
     "metadata": {},
     "output_type": "execute_result"
    }
   ],
   "source": [
    "def which_industry(string):\n",
    "    return string[:2]\n",
    "\n",
    "df = pd.read_excel('1106_看門狗_全產業分類整理.xlsx')\n",
    "df['產業別'] = df['公司'].map(which_industry)\n",
    "\n",
    "def big_cat(string):\n",
    "    return string[0]\n",
    "\n",
    "df['大事件類別'] = df['小事件類別'].map(big_cat)\n",
    "\n",
    "df_final = pd.DataFrame()\n",
    "for name, data in df.groupby(['公司']):\n",
    "    dftemp = data.iloc[0, [0, 4]] #series\n",
    "    Rs = len(data[data['大事件類別'] == 'R'])\n",
    "    dftemp = dftemp.append(pd.Series([Rs], index=['R類事件數']))\n",
    "    df_final = df_final.append(dftemp, ignore_index=True)\n",
    "    \n",
    "df_final = df_final[['公司', '產業別', 'R類事件數']]\n",
    "\n",
    "df_final[df_final['產業別'] == category].sort_values('R類事件數', ascending=False)"
   ]
  }
 ],
 "metadata": {
  "kernelspec": {
   "display_name": "Python 3",
   "language": "python",
   "name": "python3"
  },
  "language_info": {
   "codemirror_mode": {
    "name": "ipython",
    "version": 3
   },
   "file_extension": ".py",
   "mimetype": "text/x-python",
   "name": "python",
   "nbconvert_exporter": "python",
   "pygments_lexer": "ipython3",
   "version": "3.6.4"
  }
 },
 "nbformat": 4,
 "nbformat_minor": 2
}
