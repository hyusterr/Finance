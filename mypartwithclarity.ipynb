{
 "cells": [
  {
   "cell_type": "markdown",
   "metadata": {},
   "source": [
    "#### 抓取檔案路徑"
   ]
  },
  {
   "cell_type": "code",
   "execution_count": 1,
   "metadata": {},
   "outputs": [
    {
     "data": {
      "text/plain": [
       "'D:\\\\python code\\\\財金自然語言處理中心\\\\七大類'"
      ]
     },
     "execution_count": 1,
     "metadata": {},
     "output_type": "execute_result"
    }
   ],
   "source": [
    "import os\n",
    "os.getcwd()"
   ]
  },
  {
   "cell_type": "markdown",
   "metadata": {},
   "source": [
    "#### 引進所需套件"
   ]
  },
  {
   "cell_type": "code",
   "execution_count": 2,
   "metadata": {},
   "outputs": [],
   "source": [
    "import pandas as pd\n",
    "import numpy as np\n",
    "import matplotlib.pyplot as plt\n",
    "%matplotlib inline"
   ]
  },
  {
   "cell_type": "markdown",
   "metadata": {},
   "source": [
    "#### 引進所需營收資料"
   ]
  },
  {
   "cell_type": "code",
   "execution_count": 4,
   "metadata": {},
   "outputs": [],
   "source": [
    "name_revenue = '2017單月營收2.xlsx'\n",
    "file_revenue = pd.read_excel(name_revenue)"
   ]
  },
  {
   "cell_type": "code",
   "execution_count": 5,
   "metadata": {},
   "outputs": [
    {
     "data": {
      "text/plain": [
       "(11388, 4)"
      ]
     },
     "execution_count": 5,
     "metadata": {},
     "output_type": "execute_result"
    }
   ],
   "source": [
    "file_revenue.shape"
   ]
  },
  {
   "cell_type": "code",
   "execution_count": 6,
   "metadata": {},
   "outputs": [
    {
     "data": {
      "text/html": [
       "<div>\n",
       "<style scoped>\n",
       "    .dataframe tbody tr th:only-of-type {\n",
       "        vertical-align: middle;\n",
       "    }\n",
       "\n",
       "    .dataframe tbody tr th {\n",
       "        vertical-align: top;\n",
       "    }\n",
       "\n",
       "    .dataframe thead th {\n",
       "        text-align: right;\n",
       "    }\n",
       "</style>\n",
       "<table border=\"1\" class=\"dataframe\">\n",
       "  <thead>\n",
       "    <tr style=\"text-align: right;\">\n",
       "      <th></th>\n",
       "      <th>公司</th>\n",
       "      <th>簡稱</th>\n",
       "      <th>年月</th>\n",
       "      <th>單月營收(千元)</th>\n",
       "    </tr>\n",
       "  </thead>\n",
       "  <tbody>\n",
       "    <tr>\n",
       "      <th>0</th>\n",
       "      <td>1101</td>\n",
       "      <td>台泥</td>\n",
       "      <td>201702</td>\n",
       "      <td>5964991</td>\n",
       "    </tr>\n",
       "    <tr>\n",
       "      <th>1</th>\n",
       "      <td>1101</td>\n",
       "      <td>台泥</td>\n",
       "      <td>201703</td>\n",
       "      <td>9083111</td>\n",
       "    </tr>\n",
       "    <tr>\n",
       "      <th>2</th>\n",
       "      <td>1101</td>\n",
       "      <td>台泥</td>\n",
       "      <td>201704</td>\n",
       "      <td>8370478</td>\n",
       "    </tr>\n",
       "    <tr>\n",
       "      <th>3</th>\n",
       "      <td>1101</td>\n",
       "      <td>台泥</td>\n",
       "      <td>201705</td>\n",
       "      <td>8485032</td>\n",
       "    </tr>\n",
       "    <tr>\n",
       "      <th>4</th>\n",
       "      <td>1101</td>\n",
       "      <td>台泥</td>\n",
       "      <td>201706</td>\n",
       "      <td>7858569</td>\n",
       "    </tr>\n",
       "  </tbody>\n",
       "</table>\n",
       "</div>"
      ],
      "text/plain": [
       "     公司           簡稱      年月  單月營收(千元)\n",
       "0  1101  台泥           201702   5964991\n",
       "1  1101  台泥           201703   9083111\n",
       "2  1101  台泥           201704   8370478\n",
       "3  1101  台泥           201705   8485032\n",
       "4  1101  台泥           201706   7858569"
      ]
     },
     "execution_count": 6,
     "metadata": {},
     "output_type": "execute_result"
    }
   ],
   "source": [
    "file_revenue.head()"
   ]
  },
  {
   "cell_type": "markdown",
   "metadata": {},
   "source": [
    "#### 清理資料"
   ]
  },
  {
   "cell_type": "code",
   "execution_count": 7,
   "metadata": {},
   "outputs": [
    {
     "data": {
      "text/html": [
       "<div>\n",
       "<style scoped>\n",
       "    .dataframe tbody tr th:only-of-type {\n",
       "        vertical-align: middle;\n",
       "    }\n",
       "\n",
       "    .dataframe tbody tr th {\n",
       "        vertical-align: top;\n",
       "    }\n",
       "\n",
       "    .dataframe thead th {\n",
       "        text-align: right;\n",
       "    }\n",
       "</style>\n",
       "<table border=\"1\" class=\"dataframe\">\n",
       "  <thead>\n",
       "    <tr style=\"text-align: right;\">\n",
       "      <th></th>\n",
       "      <th>公司</th>\n",
       "      <th>年月</th>\n",
       "      <th>單月營收(千元)</th>\n",
       "    </tr>\n",
       "  </thead>\n",
       "  <tbody>\n",
       "    <tr>\n",
       "      <th>0</th>\n",
       "      <td>1101</td>\n",
       "      <td>201702</td>\n",
       "      <td>5964991</td>\n",
       "    </tr>\n",
       "    <tr>\n",
       "      <th>1</th>\n",
       "      <td>1101</td>\n",
       "      <td>201703</td>\n",
       "      <td>9083111</td>\n",
       "    </tr>\n",
       "    <tr>\n",
       "      <th>2</th>\n",
       "      <td>1101</td>\n",
       "      <td>201704</td>\n",
       "      <td>8370478</td>\n",
       "    </tr>\n",
       "    <tr>\n",
       "      <th>3</th>\n",
       "      <td>1101</td>\n",
       "      <td>201705</td>\n",
       "      <td>8485032</td>\n",
       "    </tr>\n",
       "    <tr>\n",
       "      <th>4</th>\n",
       "      <td>1101</td>\n",
       "      <td>201706</td>\n",
       "      <td>7858569</td>\n",
       "    </tr>\n",
       "  </tbody>\n",
       "</table>\n",
       "</div>"
      ],
      "text/plain": [
       "     公司      年月  單月營收(千元)\n",
       "0  1101  201702   5964991\n",
       "1  1101  201703   9083111\n",
       "2  1101  201704   8370478\n",
       "3  1101  201705   8485032\n",
       "4  1101  201706   7858569"
      ]
     },
     "execution_count": 7,
     "metadata": {},
     "output_type": "execute_result"
    }
   ],
   "source": [
    "df_revenue = file_revenue.drop(['簡稱'], axis=1)\n",
    "df_revenue.head()"
   ]
  },
  {
   "cell_type": "code",
   "execution_count": 8,
   "metadata": {},
   "outputs": [
    {
     "name": "stdout",
     "output_type": "stream",
     "text": [
      "<class 'int'>\n",
      "<class 'numpy.int64'>\n",
      "<class 'numpy.int64'>\n"
     ]
    }
   ],
   "source": [
    "print(type(df_revenue.iloc[0,0]))\n",
    "print(type(df_revenue.iloc[0,1]))\n",
    "print(type(df_revenue.iloc[0,2]))"
   ]
  },
  {
   "cell_type": "code",
   "execution_count": 9,
   "metadata": {},
   "outputs": [
    {
     "data": {
      "text/html": [
       "<div>\n",
       "<style scoped>\n",
       "    .dataframe tbody tr th:only-of-type {\n",
       "        vertical-align: middle;\n",
       "    }\n",
       "\n",
       "    .dataframe tbody tr th {\n",
       "        vertical-align: top;\n",
       "    }\n",
       "\n",
       "    .dataframe thead tr th {\n",
       "        text-align: left;\n",
       "    }\n",
       "\n",
       "    .dataframe thead tr:last-of-type th {\n",
       "        text-align: right;\n",
       "    }\n",
       "</style>\n",
       "<table border=\"1\" class=\"dataframe\">\n",
       "  <thead>\n",
       "    <tr>\n",
       "      <th></th>\n",
       "      <th colspan=\"12\" halign=\"left\">單月營收(千元)</th>\n",
       "    </tr>\n",
       "    <tr>\n",
       "      <th>年月</th>\n",
       "      <th>201702</th>\n",
       "      <th>201703</th>\n",
       "      <th>201704</th>\n",
       "      <th>201705</th>\n",
       "      <th>201706</th>\n",
       "      <th>201707</th>\n",
       "      <th>201708</th>\n",
       "      <th>201709</th>\n",
       "      <th>201710</th>\n",
       "      <th>201711</th>\n",
       "      <th>201712</th>\n",
       "      <th>201801</th>\n",
       "    </tr>\n",
       "    <tr>\n",
       "      <th>公司</th>\n",
       "      <th></th>\n",
       "      <th></th>\n",
       "      <th></th>\n",
       "      <th></th>\n",
       "      <th></th>\n",
       "      <th></th>\n",
       "      <th></th>\n",
       "      <th></th>\n",
       "      <th></th>\n",
       "      <th></th>\n",
       "      <th></th>\n",
       "      <th></th>\n",
       "    </tr>\n",
       "  </thead>\n",
       "  <tbody>\n",
       "    <tr>\n",
       "      <th>1101</th>\n",
       "      <td>5964991</td>\n",
       "      <td>9083111</td>\n",
       "      <td>8370478</td>\n",
       "      <td>8485032</td>\n",
       "      <td>7858569</td>\n",
       "      <td>8034396</td>\n",
       "      <td>6952639</td>\n",
       "      <td>8071192</td>\n",
       "      <td>8387381</td>\n",
       "      <td>9985897</td>\n",
       "      <td>10988149</td>\n",
       "      <td>9617393</td>\n",
       "    </tr>\n",
       "    <tr>\n",
       "      <th>1102</th>\n",
       "      <td>3049461</td>\n",
       "      <td>5308954</td>\n",
       "      <td>5218646</td>\n",
       "      <td>5741517</td>\n",
       "      <td>5331442</td>\n",
       "      <td>5252149</td>\n",
       "      <td>5478165</td>\n",
       "      <td>5806573</td>\n",
       "      <td>5840273</td>\n",
       "      <td>6639248</td>\n",
       "      <td>7070625</td>\n",
       "      <td>6769986</td>\n",
       "    </tr>\n",
       "    <tr>\n",
       "      <th>1103</th>\n",
       "      <td>171513</td>\n",
       "      <td>194614</td>\n",
       "      <td>132940</td>\n",
       "      <td>183810</td>\n",
       "      <td>143629</td>\n",
       "      <td>153905</td>\n",
       "      <td>174704</td>\n",
       "      <td>177734</td>\n",
       "      <td>167398</td>\n",
       "      <td>181868</td>\n",
       "      <td>181112</td>\n",
       "      <td>172094</td>\n",
       "    </tr>\n",
       "    <tr>\n",
       "      <th>1104</th>\n",
       "      <td>308357</td>\n",
       "      <td>428434</td>\n",
       "      <td>358213</td>\n",
       "      <td>381948</td>\n",
       "      <td>318948</td>\n",
       "      <td>357742</td>\n",
       "      <td>367333</td>\n",
       "      <td>403016</td>\n",
       "      <td>336159</td>\n",
       "      <td>381565</td>\n",
       "      <td>399796</td>\n",
       "      <td>460482</td>\n",
       "    </tr>\n",
       "    <tr>\n",
       "      <th>1108</th>\n",
       "      <td>232100</td>\n",
       "      <td>343552</td>\n",
       "      <td>292915</td>\n",
       "      <td>332953</td>\n",
       "      <td>243699</td>\n",
       "      <td>270234</td>\n",
       "      <td>293423</td>\n",
       "      <td>267312</td>\n",
       "      <td>259826</td>\n",
       "      <td>258913</td>\n",
       "      <td>291571</td>\n",
       "      <td>320340</td>\n",
       "    </tr>\n",
       "  </tbody>\n",
       "</table>\n",
       "</div>"
      ],
      "text/plain": [
       "     單月營收(千元)                                                                 \\\n",
       "年月     201702   201703   201704   201705   201706   201707   201708   201709   \n",
       "公司                                                                             \n",
       "1101  5964991  9083111  8370478  8485032  7858569  8034396  6952639  8071192   \n",
       "1102  3049461  5308954  5218646  5741517  5331442  5252149  5478165  5806573   \n",
       "1103   171513   194614   132940   183810   143629   153905   174704   177734   \n",
       "1104   308357   428434   358213   381948   318948   357742   367333   403016   \n",
       "1108   232100   343552   292915   332953   243699   270234   293423   267312   \n",
       "\n",
       "                                           \n",
       "年月     201710   201711    201712   201801  \n",
       "公司                                         \n",
       "1101  8387381  9985897  10988149  9617393  \n",
       "1102  5840273  6639248   7070625  6769986  \n",
       "1103   167398   181868    181112   172094  \n",
       "1104   336159   381565    399796   460482  \n",
       "1108   259826   258913    291571   320340  "
      ]
     },
     "execution_count": 9,
     "metadata": {},
     "output_type": "execute_result"
    }
   ],
   "source": [
    "df_revenue = df_revenue.pivot(index='公司', columns='年月')\n",
    "df_revenue.head()"
   ]
  },
  {
   "cell_type": "code",
   "execution_count": 10,
   "metadata": {},
   "outputs": [
    {
     "name": "stdout",
     "output_type": "stream",
     "text": [
      "<class 'pandas.core.frame.DataFrame'>\n",
      "Index: 949 entries, 1101 to Y9999  \n",
      "Data columns (total 12 columns):\n",
      "(單月營收(千元), 201702)    949 non-null int64\n",
      "(單月營收(千元), 201703)    949 non-null int64\n",
      "(單月營收(千元), 201704)    949 non-null int64\n",
      "(單月營收(千元), 201705)    949 non-null int64\n",
      "(單月營收(千元), 201706)    949 non-null int64\n",
      "(單月營收(千元), 201707)    949 non-null int64\n",
      "(單月營收(千元), 201708)    949 non-null int64\n",
      "(單月營收(千元), 201709)    949 non-null int64\n",
      "(單月營收(千元), 201710)    949 non-null int64\n",
      "(單月營收(千元), 201711)    949 non-null int64\n",
      "(單月營收(千元), 201712)    949 non-null int64\n",
      "(單月營收(千元), 201801)    949 non-null int64\n",
      "dtypes: int64(12)\n",
      "memory usage: 96.4+ KB\n"
     ]
    }
   ],
   "source": [
    "df_revenue.info()"
   ]
  },
  {
   "cell_type": "markdown",
   "metadata": {},
   "source": [
    "#### 把三個月的營收加總成月營收 "
   ]
  },
  {
   "cell_type": "code",
   "execution_count": 11,
   "metadata": {},
   "outputs": [
    {
     "data": {
      "text/html": [
       "<div>\n",
       "<style scoped>\n",
       "    .dataframe tbody tr th:only-of-type {\n",
       "        vertical-align: middle;\n",
       "    }\n",
       "\n",
       "    .dataframe tbody tr th {\n",
       "        vertical-align: top;\n",
       "    }\n",
       "\n",
       "    .dataframe thead th {\n",
       "        text-align: right;\n",
       "    }\n",
       "</style>\n",
       "<table border=\"1\" class=\"dataframe\">\n",
       "  <thead>\n",
       "    <tr style=\"text-align: right;\">\n",
       "      <th></th>\n",
       "      <th>2017Q1</th>\n",
       "      <th>2017Q2</th>\n",
       "      <th>2017Q3</th>\n",
       "      <th>2017Q4</th>\n",
       "    </tr>\n",
       "    <tr>\n",
       "      <th>公司</th>\n",
       "      <th></th>\n",
       "      <th></th>\n",
       "      <th></th>\n",
       "      <th></th>\n",
       "    </tr>\n",
       "  </thead>\n",
       "  <tbody>\n",
       "    <tr>\n",
       "      <th>1101</th>\n",
       "      <td>23418580</td>\n",
       "      <td>24377997</td>\n",
       "      <td>23411212</td>\n",
       "      <td>30591439</td>\n",
       "    </tr>\n",
       "    <tr>\n",
       "      <th>1102</th>\n",
       "      <td>13577061</td>\n",
       "      <td>16325108</td>\n",
       "      <td>17125011</td>\n",
       "      <td>20479859</td>\n",
       "    </tr>\n",
       "    <tr>\n",
       "      <th>1103</th>\n",
       "      <td>499067</td>\n",
       "      <td>481344</td>\n",
       "      <td>519836</td>\n",
       "      <td>535074</td>\n",
       "    </tr>\n",
       "    <tr>\n",
       "      <th>1104</th>\n",
       "      <td>1095004</td>\n",
       "      <td>1058638</td>\n",
       "      <td>1106508</td>\n",
       "      <td>1241843</td>\n",
       "    </tr>\n",
       "    <tr>\n",
       "      <th>1108</th>\n",
       "      <td>868567</td>\n",
       "      <td>846886</td>\n",
       "      <td>820561</td>\n",
       "      <td>870824</td>\n",
       "    </tr>\n",
       "  </tbody>\n",
       "</table>\n",
       "</div>"
      ],
      "text/plain": [
       "        2017Q1    2017Q2    2017Q3    2017Q4\n",
       "公司                                          \n",
       "1101  23418580  24377997  23411212  30591439\n",
       "1102  13577061  16325108  17125011  20479859\n",
       "1103    499067    481344    519836    535074\n",
       "1104   1095004   1058638   1106508   1241843\n",
       "1108    868567    846886    820561    870824"
      ]
     },
     "execution_count": 11,
     "metadata": {},
     "output_type": "execute_result"
    }
   ],
   "source": [
    "df_rev_byQ = pd.DataFrame()\n",
    "Q1 = df_revenue.iloc[:,0:3].sum(1)\n",
    "Q2 = df_revenue.iloc[:,3:6].sum(1)\n",
    "Q3 = df_revenue.iloc[:,6:9].sum(1)\n",
    "Q4 = df_revenue.iloc[:,9:].sum(1)\n",
    "df_rev_byQ['2017Q1'] = Q1\n",
    "df_rev_byQ['2017Q2'] = Q2\n",
    "df_rev_byQ['2017Q3'] = Q3\n",
    "df_rev_byQ['2017Q4'] = Q4\n",
    "\n",
    "df_rev_byQ.head()\n",
    "# print(type((dfQ.index[0])))"
   ]
  },
  {
   "cell_type": "markdown",
   "metadata": {},
   "source": [
    "#### 取得季獲利成長率資料：把下一季除以上一季"
   ]
  },
  {
   "cell_type": "code",
   "execution_count": 12,
   "metadata": {},
   "outputs": [
    {
     "data": {
      "text/html": [
       "<div>\n",
       "<style scoped>\n",
       "    .dataframe tbody tr th:only-of-type {\n",
       "        vertical-align: middle;\n",
       "    }\n",
       "\n",
       "    .dataframe tbody tr th {\n",
       "        vertical-align: top;\n",
       "    }\n",
       "\n",
       "    .dataframe thead th {\n",
       "        text-align: right;\n",
       "    }\n",
       "</style>\n",
       "<table border=\"1\" class=\"dataframe\">\n",
       "  <thead>\n",
       "    <tr style=\"text-align: right;\">\n",
       "      <th></th>\n",
       "      <th>REQ1-Q2</th>\n",
       "      <th>REQ2-Q3</th>\n",
       "      <th>REQ3-Q4</th>\n",
       "    </tr>\n",
       "    <tr>\n",
       "      <th>公司</th>\n",
       "      <th></th>\n",
       "      <th></th>\n",
       "      <th></th>\n",
       "    </tr>\n",
       "  </thead>\n",
       "  <tbody>\n",
       "    <tr>\n",
       "      <th>1101</th>\n",
       "      <td>1.040968</td>\n",
       "      <td>0.960342</td>\n",
       "      <td>1.306700</td>\n",
       "    </tr>\n",
       "    <tr>\n",
       "      <th>1102</th>\n",
       "      <td>1.202404</td>\n",
       "      <td>1.048998</td>\n",
       "      <td>1.195903</td>\n",
       "    </tr>\n",
       "    <tr>\n",
       "      <th>1103</th>\n",
       "      <td>0.964488</td>\n",
       "      <td>1.079968</td>\n",
       "      <td>1.029313</td>\n",
       "    </tr>\n",
       "    <tr>\n",
       "      <th>1104</th>\n",
       "      <td>0.966789</td>\n",
       "      <td>1.045218</td>\n",
       "      <td>1.122308</td>\n",
       "    </tr>\n",
       "    <tr>\n",
       "      <th>1108</th>\n",
       "      <td>0.975038</td>\n",
       "      <td>0.968916</td>\n",
       "      <td>1.061254</td>\n",
       "    </tr>\n",
       "  </tbody>\n",
       "</table>\n",
       "</div>"
      ],
      "text/plain": [
       "       REQ1-Q2   REQ2-Q3   REQ3-Q4\n",
       "公司                                \n",
       "1101  1.040968  0.960342  1.306700\n",
       "1102  1.202404  1.048998  1.195903\n",
       "1103  0.964488  1.079968  1.029313\n",
       "1104  0.966789  1.045218  1.122308\n",
       "1108  0.975038  0.968916  1.061254"
      ]
     },
     "execution_count": 12,
     "metadata": {},
     "output_type": "execute_result"
    }
   ],
   "source": [
    "df_rev_Qgrowth = pd.DataFrame()\n",
    "df_rev_Qgrowth['REQ1-Q2'] = df_rev_byQ.iloc[:,1] / df_rev_byQ.iloc[:,0]\n",
    "df_rev_Qgrowth['REQ2-Q3'] = df_rev_byQ.iloc[:,2] / df_rev_byQ.iloc[:,1]\n",
    "df_rev_Qgrowth['REQ3-Q4'] = df_rev_byQ.iloc[:,3] / df_rev_byQ.iloc[:,2]\n",
    "\n",
    "df_rev_Qgrowth.head()\n",
    "# print((dfQgrowth.index))"
   ]
  },
  {
   "cell_type": "markdown",
   "metadata": {},
   "source": [
    "#### 抓取應收帳款資料"
   ]
  },
  {
   "cell_type": "code",
   "execution_count": 14,
   "metadata": {},
   "outputs": [
    {
     "data": {
      "text/html": [
       "<div>\n",
       "<style scoped>\n",
       "    .dataframe tbody tr th:only-of-type {\n",
       "        vertical-align: middle;\n",
       "    }\n",
       "\n",
       "    .dataframe tbody tr th {\n",
       "        vertical-align: top;\n",
       "    }\n",
       "\n",
       "    .dataframe thead th {\n",
       "        text-align: right;\n",
       "    }\n",
       "</style>\n",
       "<table border=\"1\" class=\"dataframe\">\n",
       "  <thead>\n",
       "    <tr style=\"text-align: right;\">\n",
       "      <th></th>\n",
       "      <th>公司</th>\n",
       "      <th>簡稱</th>\n",
       "      <th>年/月</th>\n",
       "      <th>M應收帳款及票據</th>\n",
       "    </tr>\n",
       "  </thead>\n",
       "  <tbody>\n",
       "    <tr>\n",
       "      <th>0</th>\n",
       "      <td>1101</td>\n",
       "      <td>台泥</td>\n",
       "      <td>201703</td>\n",
       "      <td>19663454</td>\n",
       "    </tr>\n",
       "    <tr>\n",
       "      <th>1</th>\n",
       "      <td>1101</td>\n",
       "      <td>台泥</td>\n",
       "      <td>201706</td>\n",
       "      <td>20653913</td>\n",
       "    </tr>\n",
       "    <tr>\n",
       "      <th>2</th>\n",
       "      <td>1101</td>\n",
       "      <td>台泥</td>\n",
       "      <td>201709</td>\n",
       "      <td>22806321</td>\n",
       "    </tr>\n",
       "    <tr>\n",
       "      <th>3</th>\n",
       "      <td>1101</td>\n",
       "      <td>台泥</td>\n",
       "      <td>201712</td>\n",
       "      <td>27306164</td>\n",
       "    </tr>\n",
       "    <tr>\n",
       "      <th>4</th>\n",
       "      <td>1102</td>\n",
       "      <td>亞泥</td>\n",
       "      <td>201703</td>\n",
       "      <td>14086521</td>\n",
       "    </tr>\n",
       "  </tbody>\n",
       "</table>\n",
       "</div>"
      ],
      "text/plain": [
       "     公司           簡稱     年/月  M應收帳款及票據\n",
       "0  1101  台泥           201703  19663454\n",
       "1  1101  台泥           201706  20653913\n",
       "2  1101  台泥           201709  22806321\n",
       "3  1101  台泥           201712  27306164\n",
       "4  1102  亞泥           201703  14086521"
      ]
     },
     "execution_count": 14,
     "metadata": {},
     "output_type": "execute_result"
    }
   ],
   "source": [
    "name_AR = '2017上市公司應收帳款.xlsx'\n",
    "file_AR = pd.read_excel(name_AR)\n",
    "file_AR.head()"
   ]
  },
  {
   "cell_type": "code",
   "execution_count": 15,
   "metadata": {},
   "outputs": [
    {
     "data": {
      "text/html": [
       "<div>\n",
       "<style scoped>\n",
       "    .dataframe tbody tr th:only-of-type {\n",
       "        vertical-align: middle;\n",
       "    }\n",
       "\n",
       "    .dataframe tbody tr th {\n",
       "        vertical-align: top;\n",
       "    }\n",
       "\n",
       "    .dataframe thead tr th {\n",
       "        text-align: left;\n",
       "    }\n",
       "\n",
       "    .dataframe thead tr:last-of-type th {\n",
       "        text-align: right;\n",
       "    }\n",
       "</style>\n",
       "<table border=\"1\" class=\"dataframe\">\n",
       "  <thead>\n",
       "    <tr>\n",
       "      <th></th>\n",
       "      <th colspan=\"4\" halign=\"left\">M應收帳款及票據</th>\n",
       "    </tr>\n",
       "    <tr>\n",
       "      <th>年/月</th>\n",
       "      <th>201703</th>\n",
       "      <th>201706</th>\n",
       "      <th>201709</th>\n",
       "      <th>201712</th>\n",
       "    </tr>\n",
       "    <tr>\n",
       "      <th>公司</th>\n",
       "      <th></th>\n",
       "      <th></th>\n",
       "      <th></th>\n",
       "      <th></th>\n",
       "    </tr>\n",
       "  </thead>\n",
       "  <tbody>\n",
       "    <tr>\n",
       "      <th>1101</th>\n",
       "      <td>19663454.0</td>\n",
       "      <td>20653913.0</td>\n",
       "      <td>22806321.0</td>\n",
       "      <td>27306164.0</td>\n",
       "    </tr>\n",
       "    <tr>\n",
       "      <th>1102</th>\n",
       "      <td>14086521.0</td>\n",
       "      <td>14580025.0</td>\n",
       "      <td>16514884.0</td>\n",
       "      <td>18266303.0</td>\n",
       "    </tr>\n",
       "    <tr>\n",
       "      <th>1103</th>\n",
       "      <td>248670.0</td>\n",
       "      <td>167247.0</td>\n",
       "      <td>556467.0</td>\n",
       "      <td>206738.0</td>\n",
       "    </tr>\n",
       "    <tr>\n",
       "      <th>1104</th>\n",
       "      <td>935271.0</td>\n",
       "      <td>867790.0</td>\n",
       "      <td>928760.0</td>\n",
       "      <td>1012020.0</td>\n",
       "    </tr>\n",
       "    <tr>\n",
       "      <th>1108</th>\n",
       "      <td>693168.0</td>\n",
       "      <td>633502.0</td>\n",
       "      <td>605710.0</td>\n",
       "      <td>599362.0</td>\n",
       "    </tr>\n",
       "  </tbody>\n",
       "</table>\n",
       "</div>"
      ],
      "text/plain": [
       "        M應收帳款及票據                                    \n",
       "年/月       201703      201706      201709      201712\n",
       "公司                                                  \n",
       "1101  19663454.0  20653913.0  22806321.0  27306164.0\n",
       "1102  14086521.0  14580025.0  16514884.0  18266303.0\n",
       "1103    248670.0    167247.0    556467.0    206738.0\n",
       "1104    935271.0    867790.0    928760.0   1012020.0\n",
       "1108    693168.0    633502.0    605710.0    599362.0"
      ]
     },
     "execution_count": 15,
     "metadata": {},
     "output_type": "execute_result"
    }
   ],
   "source": [
    "df_AR = file_AR.drop(['簡稱'], axis=1)\n",
    "df_AR = df_AR.pivot(index='公司', columns='年/月')\n",
    "df_AR.head()"
   ]
  },
  {
   "cell_type": "code",
   "execution_count": 16,
   "metadata": {},
   "outputs": [
    {
     "name": "stdout",
     "output_type": "stream",
     "text": [
      "<class 'pandas.core.frame.DataFrame'>\n",
      "Int64Index: 924 entries, 1101 to 912398\n",
      "Data columns (total 4 columns):\n",
      "(M應收帳款及票據, 201703)    910 non-null float64\n",
      "(M應收帳款及票據, 201706)    924 non-null float64\n",
      "(M應收帳款及票據, 201709)    913 non-null float64\n",
      "(M應收帳款及票據, 201712)    924 non-null float64\n",
      "dtypes: float64(4)\n",
      "memory usage: 36.1 KB\n"
     ]
    }
   ],
   "source": [
    "df_AR.info()"
   ]
  },
  {
   "cell_type": "code",
   "execution_count": 17,
   "metadata": {},
   "outputs": [],
   "source": [
    "index_nullAR = df_AR.index[df_AR[('M應收帳款及票據', 201709)].isnull() == True]"
   ]
  },
  {
   "cell_type": "code",
   "execution_count": 18,
   "metadata": {},
   "outputs": [
    {
     "data": {
      "text/plain": [
       "Int64Index([9103, 9136, 9157, 9188, 910322, 910482, 910708, 910861, 911868,\n",
       "            912000, 912398],\n",
       "           dtype='int64', name='公司')"
      ]
     },
     "execution_count": 18,
     "metadata": {},
     "output_type": "execute_result"
    }
   ],
   "source": [
    "index_nullAR"
   ]
  },
  {
   "cell_type": "code",
   "execution_count": 19,
   "metadata": {},
   "outputs": [],
   "source": [
    "#把含有空值的資料丟掉\n",
    "df_AR = df_AR.drop(index_nullAR)"
   ]
  },
  {
   "cell_type": "code",
   "execution_count": 20,
   "metadata": {},
   "outputs": [
    {
     "name": "stdout",
     "output_type": "stream",
     "text": [
      "<class 'pandas.core.frame.DataFrame'>\n",
      "Int64Index: 913 entries, 1101 to 911622\n",
      "Data columns (total 4 columns):\n",
      "(M應收帳款及票據, 201703)    909 non-null float64\n",
      "(M應收帳款及票據, 201706)    913 non-null float64\n",
      "(M應收帳款及票據, 201709)    913 non-null float64\n",
      "(M應收帳款及票據, 201712)    913 non-null float64\n",
      "dtypes: float64(4)\n",
      "memory usage: 35.7 KB\n"
     ]
    }
   ],
   "source": [
    "df_AR.info()"
   ]
  },
  {
   "cell_type": "code",
   "execution_count": 21,
   "metadata": {},
   "outputs": [],
   "source": [
    "#把含有0的資料丟掉\n",
    "index_0AR = df_AR.index[df_AR[('M應收帳款及票據', 201703)] == 0]"
   ]
  },
  {
   "cell_type": "code",
   "execution_count": 22,
   "metadata": {},
   "outputs": [
    {
     "data": {
      "text/plain": [
       "Int64Index([9110, 911616], dtype='int64', name='公司')"
      ]
     },
     "execution_count": 22,
     "metadata": {},
     "output_type": "execute_result"
    }
   ],
   "source": [
    "index_0AR"
   ]
  },
  {
   "cell_type": "code",
   "execution_count": 23,
   "metadata": {},
   "outputs": [],
   "source": [
    "df_AR = df_AR.drop(index_0AR)"
   ]
  },
  {
   "cell_type": "markdown",
   "metadata": {},
   "source": [
    "#### 取得應收帳款季成長率：下一季除以上一季"
   ]
  },
  {
   "cell_type": "code",
   "execution_count": 24,
   "metadata": {},
   "outputs": [
    {
     "data": {
      "text/html": [
       "<div>\n",
       "<style scoped>\n",
       "    .dataframe tbody tr th:only-of-type {\n",
       "        vertical-align: middle;\n",
       "    }\n",
       "\n",
       "    .dataframe tbody tr th {\n",
       "        vertical-align: top;\n",
       "    }\n",
       "\n",
       "    .dataframe thead th {\n",
       "        text-align: right;\n",
       "    }\n",
       "</style>\n",
       "<table border=\"1\" class=\"dataframe\">\n",
       "  <thead>\n",
       "    <tr style=\"text-align: right;\">\n",
       "      <th></th>\n",
       "      <th>ARQ1-Q2</th>\n",
       "      <th>ARQ2-Q3</th>\n",
       "      <th>ARQ3-Q4</th>\n",
       "    </tr>\n",
       "    <tr>\n",
       "      <th>公司</th>\n",
       "      <th></th>\n",
       "      <th></th>\n",
       "      <th></th>\n",
       "    </tr>\n",
       "  </thead>\n",
       "  <tbody>\n",
       "    <tr>\n",
       "      <th>1101</th>\n",
       "      <td>1.050371</td>\n",
       "      <td>1.104213</td>\n",
       "      <td>1.197307</td>\n",
       "    </tr>\n",
       "    <tr>\n",
       "      <th>1102</th>\n",
       "      <td>1.035034</td>\n",
       "      <td>1.132706</td>\n",
       "      <td>1.106051</td>\n",
       "    </tr>\n",
       "    <tr>\n",
       "      <th>1103</th>\n",
       "      <td>0.672566</td>\n",
       "      <td>3.327217</td>\n",
       "      <td>0.371519</td>\n",
       "    </tr>\n",
       "    <tr>\n",
       "      <th>1104</th>\n",
       "      <td>0.927849</td>\n",
       "      <td>1.070259</td>\n",
       "      <td>1.089646</td>\n",
       "    </tr>\n",
       "    <tr>\n",
       "      <th>1108</th>\n",
       "      <td>0.913923</td>\n",
       "      <td>0.956130</td>\n",
       "      <td>0.989520</td>\n",
       "    </tr>\n",
       "  </tbody>\n",
       "</table>\n",
       "</div>"
      ],
      "text/plain": [
       "       ARQ1-Q2   ARQ2-Q3   ARQ3-Q4\n",
       "公司                                \n",
       "1101  1.050371  1.104213  1.197307\n",
       "1102  1.035034  1.132706  1.106051\n",
       "1103  0.672566  3.327217  0.371519\n",
       "1104  0.927849  1.070259  1.089646\n",
       "1108  0.913923  0.956130  0.989520"
      ]
     },
     "execution_count": 24,
     "metadata": {},
     "output_type": "execute_result"
    }
   ],
   "source": [
    "df_AR_Qgrowth = pd.DataFrame()\n",
    "df_AR_Qgrowth['ARQ1-Q2'] = df_AR.iloc[:,1] / df_AR.iloc[:,0]\n",
    "df_AR_Qgrowth['ARQ2-Q3'] = df_AR.iloc[:,2] / df_AR.iloc[:,1]\n",
    "df_AR_Qgrowth['ARQ3-Q4'] = df_AR.iloc[:,3] / df_AR.iloc[:,2]\n",
    "\n",
    "df_AR_Qgrowth.head()"
   ]
  },
  {
   "cell_type": "markdown",
   "metadata": {},
   "source": [
    "#### 抓取季現金資料"
   ]
  },
  {
   "cell_type": "code",
   "execution_count": 26,
   "metadata": {},
   "outputs": [
    {
     "data": {
      "text/html": [
       "<div>\n",
       "<style scoped>\n",
       "    .dataframe tbody tr th:only-of-type {\n",
       "        vertical-align: middle;\n",
       "    }\n",
       "\n",
       "    .dataframe tbody tr th {\n",
       "        vertical-align: top;\n",
       "    }\n",
       "\n",
       "    .dataframe thead th {\n",
       "        text-align: right;\n",
       "    }\n",
       "</style>\n",
       "<table border=\"1\" class=\"dataframe\">\n",
       "  <thead>\n",
       "    <tr style=\"text-align: right;\">\n",
       "      <th></th>\n",
       "      <th>公司</th>\n",
       "      <th>簡稱</th>\n",
       "      <th>年/月</th>\n",
       "      <th>M現金及約當現金</th>\n",
       "    </tr>\n",
       "  </thead>\n",
       "  <tbody>\n",
       "    <tr>\n",
       "      <th>0</th>\n",
       "      <td>1101</td>\n",
       "      <td>台泥</td>\n",
       "      <td>201703</td>\n",
       "      <td>25012886</td>\n",
       "    </tr>\n",
       "    <tr>\n",
       "      <th>1</th>\n",
       "      <td>1101</td>\n",
       "      <td>台泥</td>\n",
       "      <td>201706</td>\n",
       "      <td>25529191</td>\n",
       "    </tr>\n",
       "    <tr>\n",
       "      <th>2</th>\n",
       "      <td>1101</td>\n",
       "      <td>台泥</td>\n",
       "      <td>201709</td>\n",
       "      <td>26608300</td>\n",
       "    </tr>\n",
       "    <tr>\n",
       "      <th>3</th>\n",
       "      <td>1101</td>\n",
       "      <td>台泥</td>\n",
       "      <td>201712</td>\n",
       "      <td>26331218</td>\n",
       "    </tr>\n",
       "    <tr>\n",
       "      <th>4</th>\n",
       "      <td>1102</td>\n",
       "      <td>亞泥</td>\n",
       "      <td>201703</td>\n",
       "      <td>9575355</td>\n",
       "    </tr>\n",
       "  </tbody>\n",
       "</table>\n",
       "</div>"
      ],
      "text/plain": [
       "     公司           簡稱     年/月  M現金及約當現金\n",
       "0  1101  台泥           201703  25012886\n",
       "1  1101  台泥           201706  25529191\n",
       "2  1101  台泥           201709  26608300\n",
       "3  1101  台泥           201712  26331218\n",
       "4  1102  亞泥           201703   9575355"
      ]
     },
     "execution_count": 26,
     "metadata": {},
     "output_type": "execute_result"
    }
   ],
   "source": [
    "name_Cash = '上市公司季現金累計.xlsx'\n",
    "file_Cash = pd.read_excel(name_Cash)\n",
    "file_Cash.head()"
   ]
  },
  {
   "cell_type": "code",
   "execution_count": 27,
   "metadata": {},
   "outputs": [
    {
     "data": {
      "text/html": [
       "<div>\n",
       "<style scoped>\n",
       "    .dataframe tbody tr th:only-of-type {\n",
       "        vertical-align: middle;\n",
       "    }\n",
       "\n",
       "    .dataframe tbody tr th {\n",
       "        vertical-align: top;\n",
       "    }\n",
       "\n",
       "    .dataframe thead tr th {\n",
       "        text-align: left;\n",
       "    }\n",
       "\n",
       "    .dataframe thead tr:last-of-type th {\n",
       "        text-align: right;\n",
       "    }\n",
       "</style>\n",
       "<table border=\"1\" class=\"dataframe\">\n",
       "  <thead>\n",
       "    <tr>\n",
       "      <th></th>\n",
       "      <th colspan=\"4\" halign=\"left\">M現金及約當現金</th>\n",
       "    </tr>\n",
       "    <tr>\n",
       "      <th>年/月</th>\n",
       "      <th>201703</th>\n",
       "      <th>201706</th>\n",
       "      <th>201709</th>\n",
       "      <th>201712</th>\n",
       "    </tr>\n",
       "    <tr>\n",
       "      <th>公司</th>\n",
       "      <th></th>\n",
       "      <th></th>\n",
       "      <th></th>\n",
       "      <th></th>\n",
       "    </tr>\n",
       "  </thead>\n",
       "  <tbody>\n",
       "    <tr>\n",
       "      <th>1101</th>\n",
       "      <td>25012886.0</td>\n",
       "      <td>25529191.0</td>\n",
       "      <td>26608300.0</td>\n",
       "      <td>26331218.0</td>\n",
       "    </tr>\n",
       "    <tr>\n",
       "      <th>1102</th>\n",
       "      <td>9575355.0</td>\n",
       "      <td>9800773.0</td>\n",
       "      <td>7620224.0</td>\n",
       "      <td>7739492.0</td>\n",
       "    </tr>\n",
       "    <tr>\n",
       "      <th>1103</th>\n",
       "      <td>1338589.0</td>\n",
       "      <td>1012750.0</td>\n",
       "      <td>1084896.0</td>\n",
       "      <td>1803189.0</td>\n",
       "    </tr>\n",
       "    <tr>\n",
       "      <th>1104</th>\n",
       "      <td>302805.0</td>\n",
       "      <td>257031.0</td>\n",
       "      <td>268885.0</td>\n",
       "      <td>192742.0</td>\n",
       "    </tr>\n",
       "    <tr>\n",
       "      <th>1108</th>\n",
       "      <td>179826.0</td>\n",
       "      <td>215715.0</td>\n",
       "      <td>177918.0</td>\n",
       "      <td>251893.0</td>\n",
       "    </tr>\n",
       "  </tbody>\n",
       "</table>\n",
       "</div>"
      ],
      "text/plain": [
       "        M現金及約當現金                                    \n",
       "年/月       201703      201706      201709      201712\n",
       "公司                                                  \n",
       "1101  25012886.0  25529191.0  26608300.0  26331218.0\n",
       "1102   9575355.0   9800773.0   7620224.0   7739492.0\n",
       "1103   1338589.0   1012750.0   1084896.0   1803189.0\n",
       "1104    302805.0    257031.0    268885.0    192742.0\n",
       "1108    179826.0    215715.0    177918.0    251893.0"
      ]
     },
     "execution_count": 27,
     "metadata": {},
     "output_type": "execute_result"
    }
   ],
   "source": [
    "df_Cash_byQ = file_Cash.drop(['簡稱'], axis=1)\n",
    "df_Cash_byQ = df_Cash_byQ.pivot(index='公司', columns='年/月')\n",
    "df_Cash_byQ.head()"
   ]
  },
  {
   "cell_type": "markdown",
   "metadata": {},
   "source": [
    "#### 清理資料 "
   ]
  },
  {
   "cell_type": "code",
   "execution_count": 28,
   "metadata": {},
   "outputs": [],
   "source": [
    "index_nullcash = df_Cash_byQ.index[df_Cash_byQ[('M現金及約當現金', 201703)].isnull() == True]"
   ]
  },
  {
   "cell_type": "code",
   "execution_count": 29,
   "metadata": {},
   "outputs": [
    {
     "data": {
      "text/plain": [
       "Int64Index([3711, 4961], dtype='int64', name='公司')"
      ]
     },
     "execution_count": 29,
     "metadata": {},
     "output_type": "execute_result"
    }
   ],
   "source": [
    "index_nullcash"
   ]
  },
  {
   "cell_type": "code",
   "execution_count": 30,
   "metadata": {},
   "outputs": [],
   "source": [
    "df_Cash_byQ = df_Cash_byQ.drop(index_nullcash)"
   ]
  },
  {
   "cell_type": "code",
   "execution_count": 31,
   "metadata": {},
   "outputs": [
    {
     "name": "stdout",
     "output_type": "stream",
     "text": [
      "<class 'pandas.core.frame.DataFrame'>\n",
      "Int64Index: 765 entries, 1101 to 6192\n",
      "Data columns (total 4 columns):\n",
      "(M現金及約當現金, 201703)    765 non-null float64\n",
      "(M現金及約當現金, 201706)    765 non-null float64\n",
      "(M現金及約當現金, 201709)    765 non-null float64\n",
      "(M現金及約當現金, 201712)    765 non-null float64\n",
      "dtypes: float64(4)\n",
      "memory usage: 29.9 KB\n"
     ]
    }
   ],
   "source": [
    "df_Cash_byQ.info()"
   ]
  },
  {
   "cell_type": "code",
   "execution_count": 32,
   "metadata": {
    "scrolled": true
   },
   "outputs": [
    {
     "data": {
      "text/html": [
       "<div>\n",
       "<style scoped>\n",
       "    .dataframe tbody tr th:only-of-type {\n",
       "        vertical-align: middle;\n",
       "    }\n",
       "\n",
       "    .dataframe tbody tr th {\n",
       "        vertical-align: top;\n",
       "    }\n",
       "\n",
       "    .dataframe thead th {\n",
       "        text-align: right;\n",
       "    }\n",
       "</style>\n",
       "<table border=\"1\" class=\"dataframe\">\n",
       "  <thead>\n",
       "    <tr style=\"text-align: right;\">\n",
       "      <th></th>\n",
       "      <th>CAQ1-Q2</th>\n",
       "      <th>CAQ2-Q3</th>\n",
       "      <th>CAQ3-Q4</th>\n",
       "    </tr>\n",
       "    <tr>\n",
       "      <th>公司</th>\n",
       "      <th></th>\n",
       "      <th></th>\n",
       "      <th></th>\n",
       "    </tr>\n",
       "  </thead>\n",
       "  <tbody>\n",
       "    <tr>\n",
       "      <th>1101</th>\n",
       "      <td>1.020642</td>\n",
       "      <td>1.042270</td>\n",
       "      <td>0.989587</td>\n",
       "    </tr>\n",
       "    <tr>\n",
       "      <th>1102</th>\n",
       "      <td>1.023541</td>\n",
       "      <td>0.777513</td>\n",
       "      <td>1.015652</td>\n",
       "    </tr>\n",
       "    <tr>\n",
       "      <th>1103</th>\n",
       "      <td>0.756580</td>\n",
       "      <td>1.071238</td>\n",
       "      <td>1.662085</td>\n",
       "    </tr>\n",
       "    <tr>\n",
       "      <th>1104</th>\n",
       "      <td>0.848833</td>\n",
       "      <td>1.046119</td>\n",
       "      <td>0.716819</td>\n",
       "    </tr>\n",
       "    <tr>\n",
       "      <th>1108</th>\n",
       "      <td>1.199576</td>\n",
       "      <td>0.824783</td>\n",
       "      <td>1.415781</td>\n",
       "    </tr>\n",
       "  </tbody>\n",
       "</table>\n",
       "</div>"
      ],
      "text/plain": [
       "       CAQ1-Q2   CAQ2-Q3   CAQ3-Q4\n",
       "公司                                \n",
       "1101  1.020642  1.042270  0.989587\n",
       "1102  1.023541  0.777513  1.015652\n",
       "1103  0.756580  1.071238  1.662085\n",
       "1104  0.848833  1.046119  0.716819\n",
       "1108  1.199576  0.824783  1.415781"
      ]
     },
     "execution_count": 32,
     "metadata": {},
     "output_type": "execute_result"
    }
   ],
   "source": [
    "df_Cash_Qgrowth = pd.DataFrame()\n",
    "df_Cash_Qgrowth['CAQ1-Q2'] = df_Cash_byQ.iloc[:,1] / df_Cash_byQ.iloc[:,0]\n",
    "df_Cash_Qgrowth['CAQ2-Q3'] = df_Cash_byQ.iloc[:,2] / df_Cash_byQ.iloc[:,1]\n",
    "df_Cash_Qgrowth['CAQ3-Q4'] = df_Cash_byQ.iloc[:,3] / df_Cash_byQ.iloc[:,2]\n",
    "\n",
    "df_Cash_Qgrowth.head()"
   ]
  },
  {
   "cell_type": "markdown",
   "metadata": {},
   "source": [
    "#### 抓取自由現金和營運現金"
   ]
  },
  {
   "cell_type": "code",
   "execution_count": 33,
   "metadata": {},
   "outputs": [
    {
     "data": {
      "text/html": [
       "<div>\n",
       "<style scoped>\n",
       "    .dataframe tbody tr th:only-of-type {\n",
       "        vertical-align: middle;\n",
       "    }\n",
       "\n",
       "    .dataframe tbody tr th {\n",
       "        vertical-align: top;\n",
       "    }\n",
       "\n",
       "    .dataframe thead th {\n",
       "        text-align: right;\n",
       "    }\n",
       "</style>\n",
       "<table border=\"1\" class=\"dataframe\">\n",
       "  <thead>\n",
       "    <tr style=\"text-align: right;\">\n",
       "      <th></th>\n",
       "      <th>公司</th>\n",
       "      <th>簡稱</th>\n",
       "      <th>年/月</th>\n",
       "      <th>M來自營運之現金流量</th>\n",
       "      <th>M自由現金流量</th>\n",
       "    </tr>\n",
       "  </thead>\n",
       "  <tbody>\n",
       "    <tr>\n",
       "      <th>0</th>\n",
       "      <td>1101</td>\n",
       "      <td>台泥</td>\n",
       "      <td>201703</td>\n",
       "      <td>1408140</td>\n",
       "      <td>4582468</td>\n",
       "    </tr>\n",
       "    <tr>\n",
       "      <th>1</th>\n",
       "      <td>1101</td>\n",
       "      <td>台泥</td>\n",
       "      <td>201706</td>\n",
       "      <td>4616823</td>\n",
       "      <td>14096516</td>\n",
       "    </tr>\n",
       "    <tr>\n",
       "      <th>2</th>\n",
       "      <td>1101</td>\n",
       "      <td>台泥</td>\n",
       "      <td>201709</td>\n",
       "      <td>7091678</td>\n",
       "      <td>13526188</td>\n",
       "    </tr>\n",
       "    <tr>\n",
       "      <th>3</th>\n",
       "      <td>1101</td>\n",
       "      <td>台泥</td>\n",
       "      <td>201712</td>\n",
       "      <td>12310560</td>\n",
       "      <td>10515704</td>\n",
       "    </tr>\n",
       "    <tr>\n",
       "      <th>4</th>\n",
       "      <td>1102</td>\n",
       "      <td>亞泥</td>\n",
       "      <td>201703</td>\n",
       "      <td>-282365</td>\n",
       "      <td>7709780</td>\n",
       "    </tr>\n",
       "  </tbody>\n",
       "</table>\n",
       "</div>"
      ],
      "text/plain": [
       "     公司           簡稱     年/月  M來自營運之現金流量   M自由現金流量\n",
       "0  1101  台泥           201703     1408140   4582468\n",
       "1  1101  台泥           201706     4616823  14096516\n",
       "2  1101  台泥           201709     7091678  13526188\n",
       "3  1101  台泥           201712    12310560  10515704\n",
       "4  1102  亞泥           201703     -282365   7709780"
      ]
     },
     "execution_count": 33,
     "metadata": {},
     "output_type": "execute_result"
    }
   ],
   "source": [
    "nameCFree = '2017自由現金營運現金上市公司1.xlsx'\n",
    "fileCFree = pd.read_excel(nameCFree)\n",
    "fileCFree.head()"
   ]
  },
  {
   "cell_type": "code",
   "execution_count": 34,
   "metadata": {},
   "outputs": [
    {
     "data": {
      "text/html": [
       "<div>\n",
       "<style scoped>\n",
       "    .dataframe tbody tr th:only-of-type {\n",
       "        vertical-align: middle;\n",
       "    }\n",
       "\n",
       "    .dataframe tbody tr th {\n",
       "        vertical-align: top;\n",
       "    }\n",
       "\n",
       "    .dataframe thead th {\n",
       "        text-align: right;\n",
       "    }\n",
       "</style>\n",
       "<table border=\"1\" class=\"dataframe\">\n",
       "  <thead>\n",
       "    <tr style=\"text-align: right;\">\n",
       "      <th></th>\n",
       "      <th>公司</th>\n",
       "      <th>年/月</th>\n",
       "      <th>M來自營運之現金流量</th>\n",
       "      <th>M自由現金流量</th>\n",
       "    </tr>\n",
       "  </thead>\n",
       "  <tbody>\n",
       "    <tr>\n",
       "      <th>0</th>\n",
       "      <td>1101</td>\n",
       "      <td>201703</td>\n",
       "      <td>1408140</td>\n",
       "      <td>4582468</td>\n",
       "    </tr>\n",
       "    <tr>\n",
       "      <th>1</th>\n",
       "      <td>1101</td>\n",
       "      <td>201706</td>\n",
       "      <td>4616823</td>\n",
       "      <td>14096516</td>\n",
       "    </tr>\n",
       "    <tr>\n",
       "      <th>2</th>\n",
       "      <td>1101</td>\n",
       "      <td>201709</td>\n",
       "      <td>7091678</td>\n",
       "      <td>13526188</td>\n",
       "    </tr>\n",
       "    <tr>\n",
       "      <th>3</th>\n",
       "      <td>1101</td>\n",
       "      <td>201712</td>\n",
       "      <td>12310560</td>\n",
       "      <td>10515704</td>\n",
       "    </tr>\n",
       "    <tr>\n",
       "      <th>4</th>\n",
       "      <td>1102</td>\n",
       "      <td>201703</td>\n",
       "      <td>-282365</td>\n",
       "      <td>7709780</td>\n",
       "    </tr>\n",
       "  </tbody>\n",
       "</table>\n",
       "</div>"
      ],
      "text/plain": [
       "     公司     年/月  M來自營運之現金流量   M自由現金流量\n",
       "0  1101  201703     1408140   4582468\n",
       "1  1101  201706     4616823  14096516\n",
       "2  1101  201709     7091678  13526188\n",
       "3  1101  201712    12310560  10515704\n",
       "4  1102  201703     -282365   7709780"
      ]
     },
     "execution_count": 34,
     "metadata": {},
     "output_type": "execute_result"
    }
   ],
   "source": [
    "df_FreeCash_OperatingCash = fileCFree.drop(['簡稱'], axis=1)\n",
    "df_FreeCash_OperatingCash.head()"
   ]
  },
  {
   "cell_type": "code",
   "execution_count": 35,
   "metadata": {},
   "outputs": [
    {
     "data": {
      "text/html": [
       "<div>\n",
       "<style scoped>\n",
       "    .dataframe tbody tr th:only-of-type {\n",
       "        vertical-align: middle;\n",
       "    }\n",
       "\n",
       "    .dataframe tbody tr th {\n",
       "        vertical-align: top;\n",
       "    }\n",
       "\n",
       "    .dataframe thead th {\n",
       "        text-align: right;\n",
       "    }\n",
       "</style>\n",
       "<table border=\"1\" class=\"dataframe\">\n",
       "  <thead>\n",
       "    <tr style=\"text-align: right;\">\n",
       "      <th></th>\n",
       "      <th>公司</th>\n",
       "      <th>年/月</th>\n",
       "      <th>M來自營運之現金流量</th>\n",
       "      <th>M自由現金流量</th>\n",
       "    </tr>\n",
       "  </thead>\n",
       "  <tbody>\n",
       "    <tr>\n",
       "      <th>0</th>\n",
       "      <td>1101</td>\n",
       "      <td>201703</td>\n",
       "      <td>1408140</td>\n",
       "      <td>4582468</td>\n",
       "    </tr>\n",
       "    <tr>\n",
       "      <th>1</th>\n",
       "      <td>1101</td>\n",
       "      <td>201706</td>\n",
       "      <td>4616823</td>\n",
       "      <td>14096516</td>\n",
       "    </tr>\n",
       "    <tr>\n",
       "      <th>2</th>\n",
       "      <td>1101</td>\n",
       "      <td>201709</td>\n",
       "      <td>7091678</td>\n",
       "      <td>13526188</td>\n",
       "    </tr>\n",
       "    <tr>\n",
       "      <th>3</th>\n",
       "      <td>1101</td>\n",
       "      <td>201712</td>\n",
       "      <td>12310560</td>\n",
       "      <td>10515704</td>\n",
       "    </tr>\n",
       "    <tr>\n",
       "      <th>4</th>\n",
       "      <td>1102</td>\n",
       "      <td>201703</td>\n",
       "      <td>-282365</td>\n",
       "      <td>7709780</td>\n",
       "    </tr>\n",
       "  </tbody>\n",
       "</table>\n",
       "</div>"
      ],
      "text/plain": [
       "     公司     年/月  M來自營運之現金流量   M自由現金流量\n",
       "0  1101  201703     1408140   4582468\n",
       "1  1101  201706     4616823  14096516\n",
       "2  1101  201709     7091678  13526188\n",
       "3  1101  201712    12310560  10515704\n",
       "4  1102  201703     -282365   7709780"
      ]
     },
     "execution_count": 35,
     "metadata": {},
     "output_type": "execute_result"
    }
   ],
   "source": [
    "df_FreeCash_OperatingCash.head()"
   ]
  },
  {
   "cell_type": "code",
   "execution_count": 36,
   "metadata": {},
   "outputs": [],
   "source": [
    "df_FreeCash_OperatingCash = df_FreeCash_OperatingCash.pivot(index='公司', columns='年/月')"
   ]
  },
  {
   "cell_type": "code",
   "execution_count": 37,
   "metadata": {},
   "outputs": [],
   "source": [
    "index_null_free = df_FreeCash_OperatingCash.index[df_FreeCash_OperatingCash[('M自由現金流量', 201703)].isnull() == True]"
   ]
  },
  {
   "cell_type": "code",
   "execution_count": 38,
   "metadata": {},
   "outputs": [
    {
     "data": {
      "text/plain": [
       "Int64Index([4961, 6666, 9157, 910482, 910861, 912000, 912398], dtype='int64', name='公司')"
      ]
     },
     "execution_count": 38,
     "metadata": {},
     "output_type": "execute_result"
    }
   ],
   "source": [
    "index_null_free"
   ]
  },
  {
   "cell_type": "code",
   "execution_count": 39,
   "metadata": {},
   "outputs": [],
   "source": [
    "index_null_operating = df_FreeCash_OperatingCash.index[df_FreeCash_OperatingCash[('M來自營運之現金流量', 201703)].isnull() == True]"
   ]
  },
  {
   "cell_type": "code",
   "execution_count": 40,
   "metadata": {},
   "outputs": [
    {
     "data": {
      "text/plain": [
       "Int64Index([4961, 6666, 9157, 910482, 910861, 912000, 912398], dtype='int64', name='公司')"
      ]
     },
     "execution_count": 40,
     "metadata": {},
     "output_type": "execute_result"
    }
   ],
   "source": [
    "index_null_operating"
   ]
  },
  {
   "cell_type": "code",
   "execution_count": 41,
   "metadata": {},
   "outputs": [],
   "source": [
    "df_FreeCash_OperatingCash = df_FreeCash_OperatingCash.drop(index_null_free)"
   ]
  },
  {
   "cell_type": "code",
   "execution_count": 42,
   "metadata": {},
   "outputs": [
    {
     "name": "stdout",
     "output_type": "stream",
     "text": [
      "<class 'pandas.core.frame.DataFrame'>\n",
      "Int64Index: 887 entries, 1101 to 911622\n",
      "Data columns (total 8 columns):\n",
      "(M來自營運之現金流量, 201703)    887 non-null float64\n",
      "(M來自營運之現金流量, 201706)    887 non-null float64\n",
      "(M來自營運之現金流量, 201709)    886 non-null float64\n",
      "(M來自營運之現金流量, 201712)    887 non-null float64\n",
      "(M自由現金流量, 201703)       887 non-null float64\n",
      "(M自由現金流量, 201706)       887 non-null float64\n",
      "(M自由現金流量, 201709)       886 non-null float64\n",
      "(M自由現金流量, 201712)       887 non-null float64\n",
      "dtypes: float64(8)\n",
      "memory usage: 62.4 KB\n"
     ]
    }
   ],
   "source": [
    "df_FreeCash_OperatingCash.info()"
   ]
  },
  {
   "cell_type": "code",
   "execution_count": 43,
   "metadata": {},
   "outputs": [],
   "source": [
    "df_FreeCash_OperatingCash = df_FreeCash_OperatingCash.drop(df_FreeCash_OperatingCash.index[df_FreeCash_OperatingCash['M自由現金流量',201703] == 0])"
   ]
  },
  {
   "cell_type": "code",
   "execution_count": 44,
   "metadata": {},
   "outputs": [
    {
     "name": "stdout",
     "output_type": "stream",
     "text": [
      "<class 'pandas.core.frame.DataFrame'>\n",
      "Int64Index: 884 entries, 1101 to 911622\n",
      "Data columns (total 8 columns):\n",
      "(M來自營運之現金流量, 201703)    884 non-null float64\n",
      "(M來自營運之現金流量, 201706)    884 non-null float64\n",
      "(M來自營運之現金流量, 201709)    883 non-null float64\n",
      "(M來自營運之現金流量, 201712)    884 non-null float64\n",
      "(M自由現金流量, 201703)       884 non-null float64\n",
      "(M自由現金流量, 201706)       884 non-null float64\n",
      "(M自由現金流量, 201709)       883 non-null float64\n",
      "(M自由現金流量, 201712)       884 non-null float64\n",
      "dtypes: float64(8)\n",
      "memory usage: 62.2 KB\n"
     ]
    }
   ],
   "source": [
    "df_FreeCash_OperatingCash.info()"
   ]
  },
  {
   "cell_type": "code",
   "execution_count": 45,
   "metadata": {},
   "outputs": [],
   "source": [
    "df_FreeCash_OperatingCash = df_FreeCash_OperatingCash.drop(df_FreeCash_OperatingCash.index[df_FreeCash_OperatingCash['M自由現金流量',201703].isnull() == True])"
   ]
  },
  {
   "cell_type": "code",
   "execution_count": 46,
   "metadata": {},
   "outputs": [
    {
     "name": "stdout",
     "output_type": "stream",
     "text": [
      "<class 'pandas.core.frame.DataFrame'>\n",
      "Int64Index: 884 entries, 1101 to 911622\n",
      "Data columns (total 8 columns):\n",
      "(M來自營運之現金流量, 201703)    884 non-null float64\n",
      "(M來自營運之現金流量, 201706)    884 non-null float64\n",
      "(M來自營運之現金流量, 201709)    883 non-null float64\n",
      "(M來自營運之現金流量, 201712)    884 non-null float64\n",
      "(M自由現金流量, 201703)       884 non-null float64\n",
      "(M自由現金流量, 201706)       884 non-null float64\n",
      "(M自由現金流量, 201709)       883 non-null float64\n",
      "(M自由現金流量, 201712)       884 non-null float64\n",
      "dtypes: float64(8)\n",
      "memory usage: 62.2 KB\n"
     ]
    }
   ],
   "source": [
    "df_FreeCash_OperatingCash.info()"
   ]
  },
  {
   "cell_type": "markdown",
   "metadata": {},
   "source": [
    "#### 計算自由現金 營運現金成長率：用下一季除以上一季 "
   ]
  },
  {
   "cell_type": "code",
   "execution_count": 47,
   "metadata": {},
   "outputs": [
    {
     "data": {
      "text/html": [
       "<div>\n",
       "<style scoped>\n",
       "    .dataframe tbody tr th:only-of-type {\n",
       "        vertical-align: middle;\n",
       "    }\n",
       "\n",
       "    .dataframe tbody tr th {\n",
       "        vertical-align: top;\n",
       "    }\n",
       "\n",
       "    .dataframe thead th {\n",
       "        text-align: right;\n",
       "    }\n",
       "</style>\n",
       "<table border=\"1\" class=\"dataframe\">\n",
       "  <thead>\n",
       "    <tr style=\"text-align: right;\">\n",
       "      <th></th>\n",
       "      <th>COQ1-Q2</th>\n",
       "      <th>COQ2-Q3</th>\n",
       "      <th>COQ3-Q4</th>\n",
       "    </tr>\n",
       "    <tr>\n",
       "      <th>公司</th>\n",
       "      <th></th>\n",
       "      <th></th>\n",
       "      <th></th>\n",
       "    </tr>\n",
       "  </thead>\n",
       "  <tbody>\n",
       "    <tr>\n",
       "      <th>1101</th>\n",
       "      <td>3.278668</td>\n",
       "      <td>1.536052</td>\n",
       "      <td>1.735916</td>\n",
       "    </tr>\n",
       "    <tr>\n",
       "      <th>1102</th>\n",
       "      <td>-3.123100</td>\n",
       "      <td>4.369946</td>\n",
       "      <td>2.112034</td>\n",
       "    </tr>\n",
       "    <tr>\n",
       "      <th>1103</th>\n",
       "      <td>1.290143</td>\n",
       "      <td>0.787653</td>\n",
       "      <td>0.964679</td>\n",
       "    </tr>\n",
       "    <tr>\n",
       "      <th>1104</th>\n",
       "      <td>8.572374</td>\n",
       "      <td>5.118333</td>\n",
       "      <td>0.946415</td>\n",
       "    </tr>\n",
       "    <tr>\n",
       "      <th>1108</th>\n",
       "      <td>-13.388250</td>\n",
       "      <td>0.171391</td>\n",
       "      <td>3.469495</td>\n",
       "    </tr>\n",
       "  </tbody>\n",
       "</table>\n",
       "</div>"
      ],
      "text/plain": [
       "        COQ1-Q2   COQ2-Q3   COQ3-Q4\n",
       "公司                                 \n",
       "1101   3.278668  1.536052  1.735916\n",
       "1102  -3.123100  4.369946  2.112034\n",
       "1103   1.290143  0.787653  0.964679\n",
       "1104   8.572374  5.118333  0.946415\n",
       "1108 -13.388250  0.171391  3.469495"
      ]
     },
     "execution_count": 47,
     "metadata": {},
     "output_type": "execute_result"
    }
   ],
   "source": [
    "df_operatingcash_growth = pd.DataFrame()\n",
    "df_operatingcash_growth['COQ1-Q2'] = df_FreeCash_OperatingCash.iloc[:,1] / df_FreeCash_OperatingCash.iloc[:,0]\n",
    "df_operatingcash_growth['COQ2-Q3'] = df_FreeCash_OperatingCash.iloc[:,2] / df_FreeCash_OperatingCash.iloc[:,1]\n",
    "df_operatingcash_growth['COQ3-Q4'] = df_FreeCash_OperatingCash.iloc[:,3] / df_FreeCash_OperatingCash.iloc[:,2]\n",
    "df_operatingcash_growth.head()"
   ]
  },
  {
   "cell_type": "code",
   "execution_count": 48,
   "metadata": {},
   "outputs": [
    {
     "data": {
      "text/html": [
       "<div>\n",
       "<style scoped>\n",
       "    .dataframe tbody tr th:only-of-type {\n",
       "        vertical-align: middle;\n",
       "    }\n",
       "\n",
       "    .dataframe tbody tr th {\n",
       "        vertical-align: top;\n",
       "    }\n",
       "\n",
       "    .dataframe thead th {\n",
       "        text-align: right;\n",
       "    }\n",
       "</style>\n",
       "<table border=\"1\" class=\"dataframe\">\n",
       "  <thead>\n",
       "    <tr style=\"text-align: right;\">\n",
       "      <th></th>\n",
       "      <th>CFQ1-Q2</th>\n",
       "      <th>CFQ2-Q3</th>\n",
       "      <th>CFQ3-Q4</th>\n",
       "    </tr>\n",
       "    <tr>\n",
       "      <th>公司</th>\n",
       "      <th></th>\n",
       "      <th></th>\n",
       "      <th></th>\n",
       "    </tr>\n",
       "  </thead>\n",
       "  <tbody>\n",
       "    <tr>\n",
       "      <th>1101</th>\n",
       "      <td>3.076184</td>\n",
       "      <td>0.959541</td>\n",
       "      <td>0.777433</td>\n",
       "    </tr>\n",
       "    <tr>\n",
       "      <th>1102</th>\n",
       "      <td>1.755318</td>\n",
       "      <td>1.008165</td>\n",
       "      <td>1.147959</td>\n",
       "    </tr>\n",
       "    <tr>\n",
       "      <th>1103</th>\n",
       "      <td>1.708270</td>\n",
       "      <td>0.909442</td>\n",
       "      <td>1.807377</td>\n",
       "    </tr>\n",
       "    <tr>\n",
       "      <th>1104</th>\n",
       "      <td>5.392883</td>\n",
       "      <td>1.422127</td>\n",
       "      <td>1.109129</td>\n",
       "    </tr>\n",
       "    <tr>\n",
       "      <th>1108</th>\n",
       "      <td>0.467672</td>\n",
       "      <td>1.147725</td>\n",
       "      <td>2.641682</td>\n",
       "    </tr>\n",
       "  </tbody>\n",
       "</table>\n",
       "</div>"
      ],
      "text/plain": [
       "       CFQ1-Q2   CFQ2-Q3   CFQ3-Q4\n",
       "公司                                \n",
       "1101  3.076184  0.959541  0.777433\n",
       "1102  1.755318  1.008165  1.147959\n",
       "1103  1.708270  0.909442  1.807377\n",
       "1104  5.392883  1.422127  1.109129\n",
       "1108  0.467672  1.147725  2.641682"
      ]
     },
     "execution_count": 48,
     "metadata": {},
     "output_type": "execute_result"
    }
   ],
   "source": [
    "df_FreeCash_growth = pd.DataFrame()\n",
    "df_FreeCash_growth['CFQ1-Q2'] = df_FreeCash_OperatingCash.iloc[:,5] / df_FreeCash_OperatingCash.iloc[:,4]\n",
    "df_FreeCash_growth['CFQ2-Q3'] = df_FreeCash_OperatingCash.iloc[:,6] / df_FreeCash_OperatingCash.iloc[:,5]\n",
    "df_FreeCash_growth['CFQ3-Q4'] = df_FreeCash_OperatingCash.iloc[:,7] / df_FreeCash_OperatingCash.iloc[:,6]\n",
    "df_FreeCash_growth.head()"
   ]
  },
  {
   "cell_type": "code",
   "execution_count": 49,
   "metadata": {},
   "outputs": [
    {
     "name": "stdout",
     "output_type": "stream",
     "text": [
      "<class 'pandas.core.frame.DataFrame'>\n",
      "Int64Index: 884 entries, 1101 to 911622\n",
      "Data columns (total 3 columns):\n",
      "CFQ1-Q2    884 non-null float64\n",
      "CFQ2-Q3    883 non-null float64\n",
      "CFQ3-Q4    883 non-null float64\n",
      "dtypes: float64(3)\n",
      "memory usage: 27.6 KB\n"
     ]
    }
   ],
   "source": [
    "df_FreeCash_growth.info()"
   ]
  },
  {
   "cell_type": "markdown",
   "metadata": {},
   "source": [
    "#### 抓取上市公司七大類別資料"
   ]
  },
  {
   "cell_type": "code",
   "execution_count": 51,
   "metadata": {},
   "outputs": [
    {
     "data": {
      "text/html": [
       "<div>\n",
       "<style scoped>\n",
       "    .dataframe tbody tr th:only-of-type {\n",
       "        vertical-align: middle;\n",
       "    }\n",
       "\n",
       "    .dataframe tbody tr th {\n",
       "        vertical-align: top;\n",
       "    }\n",
       "\n",
       "    .dataframe thead th {\n",
       "        text-align: right;\n",
       "    }\n",
       "</style>\n",
       "<table border=\"1\" class=\"dataframe\">\n",
       "  <thead>\n",
       "    <tr style=\"text-align: right;\">\n",
       "      <th></th>\n",
       "      <th>公司</th>\n",
       "      <th>簡稱</th>\n",
       "      <th>class</th>\n",
       "    </tr>\n",
       "  </thead>\n",
       "  <tbody>\n",
       "    <tr>\n",
       "      <th>0</th>\n",
       "      <td>1216</td>\n",
       "      <td>統一</td>\n",
       "      <td>1</td>\n",
       "    </tr>\n",
       "    <tr>\n",
       "      <th>1</th>\n",
       "      <td>2049</td>\n",
       "      <td>上銀</td>\n",
       "      <td>1</td>\n",
       "    </tr>\n",
       "    <tr>\n",
       "      <th>2</th>\n",
       "      <td>2303</td>\n",
       "      <td>聯電</td>\n",
       "      <td>1</td>\n",
       "    </tr>\n",
       "    <tr>\n",
       "      <th>3</th>\n",
       "      <td>2408</td>\n",
       "      <td>南亞科</td>\n",
       "      <td>1</td>\n",
       "    </tr>\n",
       "    <tr>\n",
       "      <th>4</th>\n",
       "      <td>2618</td>\n",
       "      <td>長榮航</td>\n",
       "      <td>1</td>\n",
       "    </tr>\n",
       "  </tbody>\n",
       "</table>\n",
       "</div>"
      ],
      "text/plain": [
       "     公司   簡稱 class\n",
       "0  1216   統一     1\n",
       "1  2049   上銀     1\n",
       "2  2303   聯電     1\n",
       "3  2408  南亞科     1\n",
       "4  2618  長榮航     1"
      ]
     },
     "execution_count": 51,
     "metadata": {},
     "output_type": "execute_result"
    }
   ],
   "source": [
    "nameclass1 = 'class1.xlsx'\n",
    "fileclass1 = pd.read_excel(nameclass1)\n",
    "fileclass1['class'] = '1'\n",
    "# fileclass1.head()\n",
    "nameclass2 = 'class2.xlsx'\n",
    "fileclass2 = pd.read_excel(nameclass2)\n",
    "fileclass2['class'] = '2'\n",
    "# fileclass2.head()\n",
    "nameclass3 = 'class3.xlsx'\n",
    "fileclass3 = pd.read_excel(nameclass3)\n",
    "fileclass3['class'] = '3'\n",
    "# fileclass3.head()\n",
    "nameclass4 = 'class4.xlsx'\n",
    "fileclass4 = pd.read_excel(nameclass4)\n",
    "fileclass4['class'] = '4'\n",
    "# fileclass4.head()\n",
    "nameclass5 = 'class5.xlsx'\n",
    "fileclass5 = pd.read_excel(nameclass5)\n",
    "fileclass5['class'] = '5'\n",
    "# fileclass5.head()\n",
    "nameclass6 = 'class6.xlsx'\n",
    "fileclass6 = pd.read_excel(nameclass6)\n",
    "fileclass6['class'] = '6'\n",
    "# fileclass6.head()\n",
    "nameclass7 = 'class7.xlsx'\n",
    "fileclass7 = pd.read_excel(nameclass7)\n",
    "fileclass7['class'] = '7'\n",
    "# fileclass7.head()\n",
    "\n",
    "frames = [fileclass1, fileclass2, fileclass3, fileclass4, fileclass5, fileclass6, fileclass7]\n",
    "dfclass = pd.concat(frames, ignore_index=True)\n",
    "dfclass.head()\n",
    "\n"
   ]
  },
  {
   "cell_type": "code",
   "execution_count": 52,
   "metadata": {},
   "outputs": [],
   "source": [
    "df_class = dfclass.set_index('公司')"
   ]
  },
  {
   "cell_type": "code",
   "execution_count": 53,
   "metadata": {},
   "outputs": [
    {
     "name": "stdout",
     "output_type": "stream",
     "text": [
      "<class 'pandas.core.frame.DataFrame'>\n",
      "Int64Index: 864 entries, 1216 to 9958\n",
      "Data columns (total 2 columns):\n",
      "簡稱       864 non-null object\n",
      "class    864 non-null object\n",
      "dtypes: object(2)\n",
      "memory usage: 20.2+ KB\n"
     ]
    }
   ],
   "source": [
    "df_class.info()"
   ]
  },
  {
   "cell_type": "markdown",
   "metadata": {},
   "source": [
    "#### 抓取稅前息前淨利資料"
   ]
  },
  {
   "cell_type": "code",
   "execution_count": 54,
   "metadata": {},
   "outputs": [
    {
     "name": "stdout",
     "output_type": "stream",
     "text": [
      "<class 'pandas.core.frame.DataFrame'>\n",
      "RangeIndex: 1133 entries, 0 to 1132\n",
      "Data columns (total 4 columns):\n",
      "公司        1133 non-null object\n",
      "簡稱        1133 non-null object\n",
      "年/月       1133 non-null int64\n",
      "稅前息前淨利    1133 non-null object\n",
      "dtypes: int64(1), object(3)\n",
      "memory usage: 35.5+ KB\n"
     ]
    }
   ],
   "source": [
    "name_income = '2017稅前息前淨利.xlsx'\n",
    "file_income = pd.read_excel(name_income)\n",
    "file_income.info() #資料極度不齊全"
   ]
  },
  {
   "cell_type": "markdown",
   "metadata": {},
   "source": [
    "#### 分析1：自由現金對公布獲利"
   ]
  },
  {
   "cell_type": "code",
   "execution_count": 55,
   "metadata": {},
   "outputs": [],
   "source": [
    "df_rev_and_freecash = pd.concat([df_FreeCash_growth, df_rev_Qgrowth, df_class], axis=1)"
   ]
  },
  {
   "cell_type": "code",
   "execution_count": 56,
   "metadata": {},
   "outputs": [
    {
     "data": {
      "text/html": [
       "<div>\n",
       "<style scoped>\n",
       "    .dataframe tbody tr th:only-of-type {\n",
       "        vertical-align: middle;\n",
       "    }\n",
       "\n",
       "    .dataframe tbody tr th {\n",
       "        vertical-align: top;\n",
       "    }\n",
       "\n",
       "    .dataframe thead th {\n",
       "        text-align: right;\n",
       "    }\n",
       "</style>\n",
       "<table border=\"1\" class=\"dataframe\">\n",
       "  <thead>\n",
       "    <tr style=\"text-align: right;\">\n",
       "      <th></th>\n",
       "      <th>CFQ1-Q2</th>\n",
       "      <th>CFQ2-Q3</th>\n",
       "      <th>CFQ3-Q4</th>\n",
       "      <th>REQ1-Q2</th>\n",
       "      <th>REQ2-Q3</th>\n",
       "      <th>REQ3-Q4</th>\n",
       "      <th>簡稱</th>\n",
       "      <th>class</th>\n",
       "    </tr>\n",
       "    <tr>\n",
       "      <th>公司</th>\n",
       "      <th></th>\n",
       "      <th></th>\n",
       "      <th></th>\n",
       "      <th></th>\n",
       "      <th></th>\n",
       "      <th></th>\n",
       "      <th></th>\n",
       "      <th></th>\n",
       "    </tr>\n",
       "  </thead>\n",
       "  <tbody>\n",
       "    <tr>\n",
       "      <th>1101</th>\n",
       "      <td>3.076184</td>\n",
       "      <td>0.959541</td>\n",
       "      <td>0.777433</td>\n",
       "      <td>1.040968</td>\n",
       "      <td>0.960342</td>\n",
       "      <td>1.306700</td>\n",
       "      <td>台泥</td>\n",
       "      <td>3</td>\n",
       "    </tr>\n",
       "    <tr>\n",
       "      <th>1102</th>\n",
       "      <td>1.755318</td>\n",
       "      <td>1.008165</td>\n",
       "      <td>1.147959</td>\n",
       "      <td>1.202404</td>\n",
       "      <td>1.048998</td>\n",
       "      <td>1.195903</td>\n",
       "      <td>亞泥</td>\n",
       "      <td>2</td>\n",
       "    </tr>\n",
       "    <tr>\n",
       "      <th>1103</th>\n",
       "      <td>1.708270</td>\n",
       "      <td>0.909442</td>\n",
       "      <td>1.807377</td>\n",
       "      <td>0.964488</td>\n",
       "      <td>1.079968</td>\n",
       "      <td>1.029313</td>\n",
       "      <td>嘉泥</td>\n",
       "      <td>4</td>\n",
       "    </tr>\n",
       "    <tr>\n",
       "      <th>1104</th>\n",
       "      <td>5.392883</td>\n",
       "      <td>1.422127</td>\n",
       "      <td>1.109129</td>\n",
       "      <td>0.966789</td>\n",
       "      <td>1.045218</td>\n",
       "      <td>1.122308</td>\n",
       "      <td>環泥</td>\n",
       "      <td>5</td>\n",
       "    </tr>\n",
       "    <tr>\n",
       "      <th>1108</th>\n",
       "      <td>0.467672</td>\n",
       "      <td>1.147725</td>\n",
       "      <td>2.641682</td>\n",
       "      <td>0.975038</td>\n",
       "      <td>0.968916</td>\n",
       "      <td>1.061254</td>\n",
       "      <td>幸福</td>\n",
       "      <td>2</td>\n",
       "    </tr>\n",
       "  </tbody>\n",
       "</table>\n",
       "</div>"
      ],
      "text/plain": [
       "       CFQ1-Q2   CFQ2-Q3   CFQ3-Q4   REQ1-Q2   REQ2-Q3   REQ3-Q4  簡稱 class\n",
       "公司                                                                        \n",
       "1101  3.076184  0.959541  0.777433  1.040968  0.960342  1.306700  台泥     3\n",
       "1102  1.755318  1.008165  1.147959  1.202404  1.048998  1.195903  亞泥     2\n",
       "1103  1.708270  0.909442  1.807377  0.964488  1.079968  1.029313  嘉泥     4\n",
       "1104  5.392883  1.422127  1.109129  0.966789  1.045218  1.122308  環泥     5\n",
       "1108  0.467672  1.147725  2.641682  0.975038  0.968916  1.061254  幸福     2"
      ]
     },
     "execution_count": 56,
     "metadata": {},
     "output_type": "execute_result"
    }
   ],
   "source": [
    "df_rev_and_freecash.head()"
   ]
  },
  {
   "cell_type": "markdown",
   "metadata": {},
   "source": [
    "#### 比率：自由現金成長率除以營收季成長率 "
   ]
  },
  {
   "cell_type": "code",
   "execution_count": 57,
   "metadata": {},
   "outputs": [],
   "source": [
    "df_rev_and_freecash['R1'] = df_rev_and_freecash['CFQ1-Q2'] / df_rev_and_freecash['REQ1-Q2']\n",
    "df_rev_and_freecash['R2'] = df_rev_and_freecash['CFQ2-Q3'] / df_rev_and_freecash['REQ2-Q3']\n",
    "df_rev_and_freecash['R3'] = df_rev_and_freecash['CFQ3-Q4'] / df_rev_and_freecash['REQ3-Q4']"
   ]
  },
  {
   "cell_type": "code",
   "execution_count": 58,
   "metadata": {},
   "outputs": [
    {
     "data": {
      "text/html": [
       "<div>\n",
       "<style scoped>\n",
       "    .dataframe tbody tr th:only-of-type {\n",
       "        vertical-align: middle;\n",
       "    }\n",
       "\n",
       "    .dataframe tbody tr th {\n",
       "        vertical-align: top;\n",
       "    }\n",
       "\n",
       "    .dataframe thead th {\n",
       "        text-align: right;\n",
       "    }\n",
       "</style>\n",
       "<table border=\"1\" class=\"dataframe\">\n",
       "  <thead>\n",
       "    <tr style=\"text-align: right;\">\n",
       "      <th></th>\n",
       "      <th>CFQ1-Q2</th>\n",
       "      <th>CFQ2-Q3</th>\n",
       "      <th>CFQ3-Q4</th>\n",
       "      <th>REQ1-Q2</th>\n",
       "      <th>REQ2-Q3</th>\n",
       "      <th>REQ3-Q4</th>\n",
       "      <th>簡稱</th>\n",
       "      <th>class</th>\n",
       "      <th>R1</th>\n",
       "      <th>R2</th>\n",
       "      <th>R3</th>\n",
       "    </tr>\n",
       "    <tr>\n",
       "      <th>公司</th>\n",
       "      <th></th>\n",
       "      <th></th>\n",
       "      <th></th>\n",
       "      <th></th>\n",
       "      <th></th>\n",
       "      <th></th>\n",
       "      <th></th>\n",
       "      <th></th>\n",
       "      <th></th>\n",
       "      <th></th>\n",
       "      <th></th>\n",
       "    </tr>\n",
       "  </thead>\n",
       "  <tbody>\n",
       "    <tr>\n",
       "      <th>1101</th>\n",
       "      <td>3.076184</td>\n",
       "      <td>0.959541</td>\n",
       "      <td>0.777433</td>\n",
       "      <td>1.040968</td>\n",
       "      <td>0.960342</td>\n",
       "      <td>1.306700</td>\n",
       "      <td>台泥</td>\n",
       "      <td>3</td>\n",
       "      <td>2.955118</td>\n",
       "      <td>0.999166</td>\n",
       "      <td>0.594959</td>\n",
       "    </tr>\n",
       "    <tr>\n",
       "      <th>1102</th>\n",
       "      <td>1.755318</td>\n",
       "      <td>1.008165</td>\n",
       "      <td>1.147959</td>\n",
       "      <td>1.202404</td>\n",
       "      <td>1.048998</td>\n",
       "      <td>1.195903</td>\n",
       "      <td>亞泥</td>\n",
       "      <td>2</td>\n",
       "      <td>1.459841</td>\n",
       "      <td>0.961074</td>\n",
       "      <td>0.959910</td>\n",
       "    </tr>\n",
       "    <tr>\n",
       "      <th>1103</th>\n",
       "      <td>1.708270</td>\n",
       "      <td>0.909442</td>\n",
       "      <td>1.807377</td>\n",
       "      <td>0.964488</td>\n",
       "      <td>1.079968</td>\n",
       "      <td>1.029313</td>\n",
       "      <td>嘉泥</td>\n",
       "      <td>4</td>\n",
       "      <td>1.771168</td>\n",
       "      <td>0.842101</td>\n",
       "      <td>1.755906</td>\n",
       "    </tr>\n",
       "    <tr>\n",
       "      <th>1104</th>\n",
       "      <td>5.392883</td>\n",
       "      <td>1.422127</td>\n",
       "      <td>1.109129</td>\n",
       "      <td>0.966789</td>\n",
       "      <td>1.045218</td>\n",
       "      <td>1.122308</td>\n",
       "      <td>環泥</td>\n",
       "      <td>5</td>\n",
       "      <td>5.578137</td>\n",
       "      <td>1.360603</td>\n",
       "      <td>0.988257</td>\n",
       "    </tr>\n",
       "    <tr>\n",
       "      <th>1108</th>\n",
       "      <td>0.467672</td>\n",
       "      <td>1.147725</td>\n",
       "      <td>2.641682</td>\n",
       "      <td>0.975038</td>\n",
       "      <td>0.968916</td>\n",
       "      <td>1.061254</td>\n",
       "      <td>幸福</td>\n",
       "      <td>2</td>\n",
       "      <td>0.479645</td>\n",
       "      <td>1.184546</td>\n",
       "      <td>2.489207</td>\n",
       "    </tr>\n",
       "  </tbody>\n",
       "</table>\n",
       "</div>"
      ],
      "text/plain": [
       "       CFQ1-Q2   CFQ2-Q3   CFQ3-Q4   REQ1-Q2   REQ2-Q3   REQ3-Q4  簡稱 class  \\\n",
       "公司                                                                           \n",
       "1101  3.076184  0.959541  0.777433  1.040968  0.960342  1.306700  台泥     3   \n",
       "1102  1.755318  1.008165  1.147959  1.202404  1.048998  1.195903  亞泥     2   \n",
       "1103  1.708270  0.909442  1.807377  0.964488  1.079968  1.029313  嘉泥     4   \n",
       "1104  5.392883  1.422127  1.109129  0.966789  1.045218  1.122308  環泥     5   \n",
       "1108  0.467672  1.147725  2.641682  0.975038  0.968916  1.061254  幸福     2   \n",
       "\n",
       "            R1        R2        R3  \n",
       "公司                                  \n",
       "1101  2.955118  0.999166  0.594959  \n",
       "1102  1.459841  0.961074  0.959910  \n",
       "1103  1.771168  0.842101  1.755906  \n",
       "1104  5.578137  1.360603  0.988257  \n",
       "1108  0.479645  1.184546  2.489207  "
      ]
     },
     "execution_count": 58,
     "metadata": {},
     "output_type": "execute_result"
    }
   ],
   "source": [
    "df_rev_and_freecash.head()"
   ]
  },
  {
   "cell_type": "markdown",
   "metadata": {},
   "source": [
    "#### 使用比率來畫圖，並觀察七大類別中比率的分布"
   ]
  },
  {
   "cell_type": "code",
   "execution_count": 59,
   "metadata": {},
   "outputs": [],
   "source": [
    "df_rev_and_freecash_fordraw = df_rev_and_freecash.iloc[:,7:]"
   ]
  },
  {
   "cell_type": "code",
   "execution_count": 60,
   "metadata": {},
   "outputs": [
    {
     "data": {
      "text/html": [
       "<div>\n",
       "<style scoped>\n",
       "    .dataframe tbody tr th:only-of-type {\n",
       "        vertical-align: middle;\n",
       "    }\n",
       "\n",
       "    .dataframe tbody tr th {\n",
       "        vertical-align: top;\n",
       "    }\n",
       "\n",
       "    .dataframe thead th {\n",
       "        text-align: right;\n",
       "    }\n",
       "</style>\n",
       "<table border=\"1\" class=\"dataframe\">\n",
       "  <thead>\n",
       "    <tr style=\"text-align: right;\">\n",
       "      <th></th>\n",
       "      <th>class</th>\n",
       "      <th>R1</th>\n",
       "      <th>R2</th>\n",
       "      <th>R3</th>\n",
       "    </tr>\n",
       "    <tr>\n",
       "      <th>公司</th>\n",
       "      <th></th>\n",
       "      <th></th>\n",
       "      <th></th>\n",
       "      <th></th>\n",
       "    </tr>\n",
       "  </thead>\n",
       "  <tbody>\n",
       "    <tr>\n",
       "      <th>1101</th>\n",
       "      <td>3</td>\n",
       "      <td>2.955118</td>\n",
       "      <td>0.999166</td>\n",
       "      <td>0.594959</td>\n",
       "    </tr>\n",
       "    <tr>\n",
       "      <th>1102</th>\n",
       "      <td>2</td>\n",
       "      <td>1.459841</td>\n",
       "      <td>0.961074</td>\n",
       "      <td>0.959910</td>\n",
       "    </tr>\n",
       "    <tr>\n",
       "      <th>1103</th>\n",
       "      <td>4</td>\n",
       "      <td>1.771168</td>\n",
       "      <td>0.842101</td>\n",
       "      <td>1.755906</td>\n",
       "    </tr>\n",
       "    <tr>\n",
       "      <th>1104</th>\n",
       "      <td>5</td>\n",
       "      <td>5.578137</td>\n",
       "      <td>1.360603</td>\n",
       "      <td>0.988257</td>\n",
       "    </tr>\n",
       "    <tr>\n",
       "      <th>1108</th>\n",
       "      <td>2</td>\n",
       "      <td>0.479645</td>\n",
       "      <td>1.184546</td>\n",
       "      <td>2.489207</td>\n",
       "    </tr>\n",
       "  </tbody>\n",
       "</table>\n",
       "</div>"
      ],
      "text/plain": [
       "     class        R1        R2        R3\n",
       "公司                                      \n",
       "1101     3  2.955118  0.999166  0.594959\n",
       "1102     2  1.459841  0.961074  0.959910\n",
       "1103     4  1.771168  0.842101  1.755906\n",
       "1104     5  5.578137  1.360603  0.988257\n",
       "1108     2  0.479645  1.184546  2.489207"
      ]
     },
     "execution_count": 60,
     "metadata": {},
     "output_type": "execute_result"
    }
   ],
   "source": [
    "df_rev_and_freecash_fordraw.head()"
   ]
  },
  {
   "cell_type": "code",
   "execution_count": 61,
   "metadata": {},
   "outputs": [],
   "source": [
    "df_fordraw1 = df_rev_and_freecash_fordraw.pivot_table(index='公司', columns='class', values='R1')"
   ]
  },
  {
   "cell_type": "code",
   "execution_count": 62,
   "metadata": {},
   "outputs": [],
   "source": [
    "df_fordraw2 = df_rev_and_freecash_fordraw.pivot_table(index='公司', columns='class', values='R2')"
   ]
  },
  {
   "cell_type": "code",
   "execution_count": 63,
   "metadata": {},
   "outputs": [],
   "source": [
    "df_fordraw3 = df_rev_and_freecash_fordraw.pivot_table(index='公司', columns='class', values='R3')"
   ]
  },
  {
   "cell_type": "code",
   "execution_count": 66,
   "metadata": {},
   "outputs": [
    {
     "data": {
      "text/plain": [
       "Text(0.5, 0.98, 'FreeCash growth/Quarter revenue growth1')"
      ]
     },
     "execution_count": 66,
     "metadata": {},
     "output_type": "execute_result"
    },
    {
     "data": {
      "image/png": "[encoded data removed]",
      "text/plain": [
       "<Figure size 720x720 with 1 Axes>"
      ]
     },
     "metadata": {
      "needs_background": "light"
     },
     "output_type": "display_data"
    }
   ],
   "source": [
    "df_fordraw1.boxplot(figsize=(10,10))\n",
    "plt.axis([0, 8, -20, 20])\n",
    "plt.suptitle('FreeCash growth/Quarter revenue growth1', fontsize=16)"
   ]
  },
  {
   "cell_type": "code",
   "execution_count": 67,
   "metadata": {},
   "outputs": [
    {
     "data": {
      "text/plain": [
       "Text(0.5, 0.98, 'FreeCash growth/Quarter revenue growth2')"
      ]
     },
     "execution_count": 67,
     "metadata": {},
     "output_type": "execute_result"
    },
    {
     "data": {
      "image/png": "[encoded data removed]",
      "text/plain": [
       "<Figure size 720x720 with 1 Axes>"
      ]
     },
     "metadata": {
      "needs_background": "light"
     },
     "output_type": "display_data"
    }
   ],
   "source": [
    "df_fordraw2.boxplot(figsize=(10,10))\n",
    "plt.axis([0, 8, -10, 10])\n",
    "plt.suptitle('FreeCash growth/Quarter revenue growth2', fontsize=16)"
   ]
  },
  {
   "cell_type": "code",
   "execution_count": 88,
   "metadata": {},
   "outputs": [
    {
     "data": {
      "text/plain": [
       "Text(0.5, 0.98, 'FreeCash growth/Quarter revenue growth')"
      ]
     },
     "execution_count": 88,
     "metadata": {},
     "output_type": "execute_result"
    },
    {
     "data": {
      "image/png": "[encoded data removed]",
      "text/plain": [
       "<Figure size 720x720 with 1 Axes>"
      ]
     },
     "metadata": {
      "needs_background": "light"
     },
     "output_type": "display_data"
    }
   ],
   "source": [
    "df_fordraw3.boxplot(figsize=(10,10))\n",
    "plt.axis([0, 8, -10, 10])\n",
    "plt.suptitle('FreeCash growth/Quarter revenue growth', fontsize=16)"
   ]
  },
  {
   "cell_type": "markdown",
   "metadata": {},
   "source": [
    "發現第一類的資料有比其他組更集中的趨勢。\n",
    "\n",
    "箱型圖意義：\n",
    "\n",
    "這組數據顯示出：\n",
    "\n",
    "最小值(minimum)\n",
    "\n",
    "下四分位數(Q1)\n",
    "\n",
    "中位數(Med --也就是Q2)\n",
    "\n",
    "上四分位數(Q3)\n",
    "\n",
    "最大值(maximum )\n",
    "\n",
    "無平均值\n",
    "\n",
    "四分位間距(interquartile range)= (Q3-Q1) (即ΔQ)\n",
    "\n",
    "在區間 Q3+1.5ΔQ, Q1-1.5ΔQ 之外的值被視為應忽略(farout)。\n",
    "\n",
    "farout: 在圖上不予顯示，僅標註一個符號∇。\n",
    "\n",
    "最大值區間： Q3+1.5ΔQ\n",
    "\n",
    "最小值區間： Q1-1.5ΔQ\n",
    "\n",
    "最大值與最小值產生於這個區間。區間外的值被視為outlier顯示在圖上.\n",
    "\n",
    "mild outlier （離群值) \n",
    "\n",
    "extreme outlier (極端值) "
   ]
  },
  {
   "cell_type": "markdown",
   "metadata": {},
   "source": [
    "#### 分析2：營運現金對營收"
   ]
  },
  {
   "cell_type": "code",
   "execution_count": 69,
   "metadata": {},
   "outputs": [],
   "source": [
    "df_rev_and_opercash = pd.concat([df_operatingcash_growth, df_rev_Qgrowth, df_class], axis=1)"
   ]
  },
  {
   "cell_type": "code",
   "execution_count": 70,
   "metadata": {},
   "outputs": [
    {
     "data": {
      "text/html": [
       "<div>\n",
       "<style scoped>\n",
       "    .dataframe tbody tr th:only-of-type {\n",
       "        vertical-align: middle;\n",
       "    }\n",
       "\n",
       "    .dataframe tbody tr th {\n",
       "        vertical-align: top;\n",
       "    }\n",
       "\n",
       "    .dataframe thead th {\n",
       "        text-align: right;\n",
       "    }\n",
       "</style>\n",
       "<table border=\"1\" class=\"dataframe\">\n",
       "  <thead>\n",
       "    <tr style=\"text-align: right;\">\n",
       "      <th></th>\n",
       "      <th>COQ1-Q2</th>\n",
       "      <th>COQ2-Q3</th>\n",
       "      <th>COQ3-Q4</th>\n",
       "      <th>REQ1-Q2</th>\n",
       "      <th>REQ2-Q3</th>\n",
       "      <th>REQ3-Q4</th>\n",
       "      <th>簡稱</th>\n",
       "      <th>class</th>\n",
       "    </tr>\n",
       "    <tr>\n",
       "      <th>公司</th>\n",
       "      <th></th>\n",
       "      <th></th>\n",
       "      <th></th>\n",
       "      <th></th>\n",
       "      <th></th>\n",
       "      <th></th>\n",
       "      <th></th>\n",
       "      <th></th>\n",
       "    </tr>\n",
       "  </thead>\n",
       "  <tbody>\n",
       "    <tr>\n",
       "      <th>1101</th>\n",
       "      <td>3.278668</td>\n",
       "      <td>1.536052</td>\n",
       "      <td>1.735916</td>\n",
       "      <td>1.040968</td>\n",
       "      <td>0.960342</td>\n",
       "      <td>1.306700</td>\n",
       "      <td>台泥</td>\n",
       "      <td>3</td>\n",
       "    </tr>\n",
       "    <tr>\n",
       "      <th>1102</th>\n",
       "      <td>-3.123100</td>\n",
       "      <td>4.369946</td>\n",
       "      <td>2.112034</td>\n",
       "      <td>1.202404</td>\n",
       "      <td>1.048998</td>\n",
       "      <td>1.195903</td>\n",
       "      <td>亞泥</td>\n",
       "      <td>2</td>\n",
       "    </tr>\n",
       "    <tr>\n",
       "      <th>1103</th>\n",
       "      <td>1.290143</td>\n",
       "      <td>0.787653</td>\n",
       "      <td>0.964679</td>\n",
       "      <td>0.964488</td>\n",
       "      <td>1.079968</td>\n",
       "      <td>1.029313</td>\n",
       "      <td>嘉泥</td>\n",
       "      <td>4</td>\n",
       "    </tr>\n",
       "    <tr>\n",
       "      <th>1104</th>\n",
       "      <td>8.572374</td>\n",
       "      <td>5.118333</td>\n",
       "      <td>0.946415</td>\n",
       "      <td>0.966789</td>\n",
       "      <td>1.045218</td>\n",
       "      <td>1.122308</td>\n",
       "      <td>環泥</td>\n",
       "      <td>5</td>\n",
       "    </tr>\n",
       "    <tr>\n",
       "      <th>1108</th>\n",
       "      <td>-13.388250</td>\n",
       "      <td>0.171391</td>\n",
       "      <td>3.469495</td>\n",
       "      <td>0.975038</td>\n",
       "      <td>0.968916</td>\n",
       "      <td>1.061254</td>\n",
       "      <td>幸福</td>\n",
       "      <td>2</td>\n",
       "    </tr>\n",
       "  </tbody>\n",
       "</table>\n",
       "</div>"
      ],
      "text/plain": [
       "        COQ1-Q2   COQ2-Q3   COQ3-Q4   REQ1-Q2   REQ2-Q3   REQ3-Q4  簡稱 class\n",
       "公司                                                                         \n",
       "1101   3.278668  1.536052  1.735916  1.040968  0.960342  1.306700  台泥     3\n",
       "1102  -3.123100  4.369946  2.112034  1.202404  1.048998  1.195903  亞泥     2\n",
       "1103   1.290143  0.787653  0.964679  0.964488  1.079968  1.029313  嘉泥     4\n",
       "1104   8.572374  5.118333  0.946415  0.966789  1.045218  1.122308  環泥     5\n",
       "1108 -13.388250  0.171391  3.469495  0.975038  0.968916  1.061254  幸福     2"
      ]
     },
     "execution_count": 70,
     "metadata": {},
     "output_type": "execute_result"
    }
   ],
   "source": [
    "df_rev_and_opercash.head()"
   ]
  },
  {
   "cell_type": "code",
   "execution_count": 71,
   "metadata": {},
   "outputs": [],
   "source": [
    "df_rev_and_opercash['R1'] = df_rev_and_opercash['COQ1-Q2'] / df_rev_and_opercash['REQ1-Q2']\n",
    "df_rev_and_opercash['R2'] = df_rev_and_opercash['COQ2-Q3'] / df_rev_and_opercash['REQ2-Q3']\n",
    "df_rev_and_opercash['R3'] = df_rev_and_opercash['COQ3-Q4'] / df_rev_and_opercash['REQ3-Q4']"
   ]
  },
  {
   "cell_type": "code",
   "execution_count": 72,
   "metadata": {},
   "outputs": [
    {
     "data": {
      "text/html": [
       "<div>\n",
       "<style scoped>\n",
       "    .dataframe tbody tr th:only-of-type {\n",
       "        vertical-align: middle;\n",
       "    }\n",
       "\n",
       "    .dataframe tbody tr th {\n",
       "        vertical-align: top;\n",
       "    }\n",
       "\n",
       "    .dataframe thead th {\n",
       "        text-align: right;\n",
       "    }\n",
       "</style>\n",
       "<table border=\"1\" class=\"dataframe\">\n",
       "  <thead>\n",
       "    <tr style=\"text-align: right;\">\n",
       "      <th></th>\n",
       "      <th>COQ1-Q2</th>\n",
       "      <th>COQ2-Q3</th>\n",
       "      <th>COQ3-Q4</th>\n",
       "      <th>REQ1-Q2</th>\n",
       "      <th>REQ2-Q3</th>\n",
       "      <th>REQ3-Q4</th>\n",
       "      <th>簡稱</th>\n",
       "      <th>class</th>\n",
       "      <th>R1</th>\n",
       "      <th>R2</th>\n",
       "      <th>R3</th>\n",
       "    </tr>\n",
       "    <tr>\n",
       "      <th>公司</th>\n",
       "      <th></th>\n",
       "      <th></th>\n",
       "      <th></th>\n",
       "      <th></th>\n",
       "      <th></th>\n",
       "      <th></th>\n",
       "      <th></th>\n",
       "      <th></th>\n",
       "      <th></th>\n",
       "      <th></th>\n",
       "      <th></th>\n",
       "    </tr>\n",
       "  </thead>\n",
       "  <tbody>\n",
       "    <tr>\n",
       "      <th>1101</th>\n",
       "      <td>3.278668</td>\n",
       "      <td>1.536052</td>\n",
       "      <td>1.735916</td>\n",
       "      <td>1.040968</td>\n",
       "      <td>0.960342</td>\n",
       "      <td>1.306700</td>\n",
       "      <td>台泥</td>\n",
       "      <td>3</td>\n",
       "      <td>3.149633</td>\n",
       "      <td>1.599484</td>\n",
       "      <td>1.328473</td>\n",
       "    </tr>\n",
       "    <tr>\n",
       "      <th>1102</th>\n",
       "      <td>-3.123100</td>\n",
       "      <td>4.369946</td>\n",
       "      <td>2.112034</td>\n",
       "      <td>1.202404</td>\n",
       "      <td>1.048998</td>\n",
       "      <td>1.195903</td>\n",
       "      <td>亞泥</td>\n",
       "      <td>2</td>\n",
       "      <td>-2.597380</td>\n",
       "      <td>4.165827</td>\n",
       "      <td>1.766057</td>\n",
       "    </tr>\n",
       "    <tr>\n",
       "      <th>1103</th>\n",
       "      <td>1.290143</td>\n",
       "      <td>0.787653</td>\n",
       "      <td>0.964679</td>\n",
       "      <td>0.964488</td>\n",
       "      <td>1.079968</td>\n",
       "      <td>1.029313</td>\n",
       "      <td>嘉泥</td>\n",
       "      <td>4</td>\n",
       "      <td>1.337646</td>\n",
       "      <td>0.729330</td>\n",
       "      <td>0.937206</td>\n",
       "    </tr>\n",
       "    <tr>\n",
       "      <th>1104</th>\n",
       "      <td>8.572374</td>\n",
       "      <td>5.118333</td>\n",
       "      <td>0.946415</td>\n",
       "      <td>0.966789</td>\n",
       "      <td>1.045218</td>\n",
       "      <td>1.122308</td>\n",
       "      <td>環泥</td>\n",
       "      <td>5</td>\n",
       "      <td>8.866849</td>\n",
       "      <td>4.896902</td>\n",
       "      <td>0.843276</td>\n",
       "    </tr>\n",
       "    <tr>\n",
       "      <th>1108</th>\n",
       "      <td>-13.388250</td>\n",
       "      <td>0.171391</td>\n",
       "      <td>3.469495</td>\n",
       "      <td>0.975038</td>\n",
       "      <td>0.968916</td>\n",
       "      <td>1.061254</td>\n",
       "      <td>幸福</td>\n",
       "      <td>2</td>\n",
       "      <td>-13.731001</td>\n",
       "      <td>0.176890</td>\n",
       "      <td>3.269240</td>\n",
       "    </tr>\n",
       "  </tbody>\n",
       "</table>\n",
       "</div>"
      ],
      "text/plain": [
       "        COQ1-Q2   COQ2-Q3   COQ3-Q4   REQ1-Q2   REQ2-Q3   REQ3-Q4  簡稱 class  \\\n",
       "公司                                                                            \n",
       "1101   3.278668  1.536052  1.735916  1.040968  0.960342  1.306700  台泥     3   \n",
       "1102  -3.123100  4.369946  2.112034  1.202404  1.048998  1.195903  亞泥     2   \n",
       "1103   1.290143  0.787653  0.964679  0.964488  1.079968  1.029313  嘉泥     4   \n",
       "1104   8.572374  5.118333  0.946415  0.966789  1.045218  1.122308  環泥     5   \n",
       "1108 -13.388250  0.171391  3.469495  0.975038  0.968916  1.061254  幸福     2   \n",
       "\n",
       "             R1        R2        R3  \n",
       "公司                                   \n",
       "1101   3.149633  1.599484  1.328473  \n",
       "1102  -2.597380  4.165827  1.766057  \n",
       "1103   1.337646  0.729330  0.937206  \n",
       "1104   8.866849  4.896902  0.843276  \n",
       "1108 -13.731001  0.176890  3.269240  "
      ]
     },
     "execution_count": 72,
     "metadata": {},
     "output_type": "execute_result"
    }
   ],
   "source": [
    "df_rev_and_opercash.head()"
   ]
  },
  {
   "cell_type": "code",
   "execution_count": 73,
   "metadata": {},
   "outputs": [
    {
     "data": {
      "text/html": [
       "<div>\n",
       "<style scoped>\n",
       "    .dataframe tbody tr th:only-of-type {\n",
       "        vertical-align: middle;\n",
       "    }\n",
       "\n",
       "    .dataframe tbody tr th {\n",
       "        vertical-align: top;\n",
       "    }\n",
       "\n",
       "    .dataframe thead th {\n",
       "        text-align: right;\n",
       "    }\n",
       "</style>\n",
       "<table border=\"1\" class=\"dataframe\">\n",
       "  <thead>\n",
       "    <tr style=\"text-align: right;\">\n",
       "      <th></th>\n",
       "      <th>class</th>\n",
       "      <th>R1</th>\n",
       "      <th>R2</th>\n",
       "      <th>R3</th>\n",
       "    </tr>\n",
       "    <tr>\n",
       "      <th>公司</th>\n",
       "      <th></th>\n",
       "      <th></th>\n",
       "      <th></th>\n",
       "      <th></th>\n",
       "    </tr>\n",
       "  </thead>\n",
       "  <tbody>\n",
       "    <tr>\n",
       "      <th>1101</th>\n",
       "      <td>3</td>\n",
       "      <td>3.149633</td>\n",
       "      <td>1.599484</td>\n",
       "      <td>1.328473</td>\n",
       "    </tr>\n",
       "    <tr>\n",
       "      <th>1102</th>\n",
       "      <td>2</td>\n",
       "      <td>-2.597380</td>\n",
       "      <td>4.165827</td>\n",
       "      <td>1.766057</td>\n",
       "    </tr>\n",
       "    <tr>\n",
       "      <th>1103</th>\n",
       "      <td>4</td>\n",
       "      <td>1.337646</td>\n",
       "      <td>0.729330</td>\n",
       "      <td>0.937206</td>\n",
       "    </tr>\n",
       "    <tr>\n",
       "      <th>1104</th>\n",
       "      <td>5</td>\n",
       "      <td>8.866849</td>\n",
       "      <td>4.896902</td>\n",
       "      <td>0.843276</td>\n",
       "    </tr>\n",
       "    <tr>\n",
       "      <th>1108</th>\n",
       "      <td>2</td>\n",
       "      <td>-13.731001</td>\n",
       "      <td>0.176890</td>\n",
       "      <td>3.269240</td>\n",
       "    </tr>\n",
       "  </tbody>\n",
       "</table>\n",
       "</div>"
      ],
      "text/plain": [
       "     class         R1        R2        R3\n",
       "公司                                       \n",
       "1101     3   3.149633  1.599484  1.328473\n",
       "1102     2  -2.597380  4.165827  1.766057\n",
       "1103     4   1.337646  0.729330  0.937206\n",
       "1104     5   8.866849  4.896902  0.843276\n",
       "1108     2 -13.731001  0.176890  3.269240"
      ]
     },
     "execution_count": 73,
     "metadata": {},
     "output_type": "execute_result"
    }
   ],
   "source": [
    "df_fordraw2_1 = df_rev_and_opercash.iloc[:,7:]\n",
    "df_fordraw2_1.head()"
   ]
  },
  {
   "cell_type": "code",
   "execution_count": 74,
   "metadata": {},
   "outputs": [
    {
     "data": {
      "text/html": [
       "<div>\n",
       "<style scoped>\n",
       "    .dataframe tbody tr th:only-of-type {\n",
       "        vertical-align: middle;\n",
       "    }\n",
       "\n",
       "    .dataframe tbody tr th {\n",
       "        vertical-align: top;\n",
       "    }\n",
       "\n",
       "    .dataframe thead th {\n",
       "        text-align: right;\n",
       "    }\n",
       "</style>\n",
       "<table border=\"1\" class=\"dataframe\">\n",
       "  <thead>\n",
       "    <tr style=\"text-align: right;\">\n",
       "      <th>class</th>\n",
       "      <th>1</th>\n",
       "      <th>2</th>\n",
       "      <th>3</th>\n",
       "      <th>4</th>\n",
       "      <th>5</th>\n",
       "      <th>6</th>\n",
       "      <th>7</th>\n",
       "    </tr>\n",
       "    <tr>\n",
       "      <th>公司</th>\n",
       "      <th></th>\n",
       "      <th></th>\n",
       "      <th></th>\n",
       "      <th></th>\n",
       "      <th></th>\n",
       "      <th></th>\n",
       "      <th></th>\n",
       "    </tr>\n",
       "  </thead>\n",
       "  <tbody>\n",
       "    <tr>\n",
       "      <th>1101</th>\n",
       "      <td>NaN</td>\n",
       "      <td>NaN</td>\n",
       "      <td>3.149633</td>\n",
       "      <td>NaN</td>\n",
       "      <td>NaN</td>\n",
       "      <td>NaN</td>\n",
       "      <td>NaN</td>\n",
       "    </tr>\n",
       "    <tr>\n",
       "      <th>1102</th>\n",
       "      <td>NaN</td>\n",
       "      <td>-2.597380</td>\n",
       "      <td>NaN</td>\n",
       "      <td>NaN</td>\n",
       "      <td>NaN</td>\n",
       "      <td>NaN</td>\n",
       "      <td>NaN</td>\n",
       "    </tr>\n",
       "    <tr>\n",
       "      <th>1103</th>\n",
       "      <td>NaN</td>\n",
       "      <td>NaN</td>\n",
       "      <td>NaN</td>\n",
       "      <td>1.337646</td>\n",
       "      <td>NaN</td>\n",
       "      <td>NaN</td>\n",
       "      <td>NaN</td>\n",
       "    </tr>\n",
       "    <tr>\n",
       "      <th>1104</th>\n",
       "      <td>NaN</td>\n",
       "      <td>NaN</td>\n",
       "      <td>NaN</td>\n",
       "      <td>NaN</td>\n",
       "      <td>8.866849</td>\n",
       "      <td>NaN</td>\n",
       "      <td>NaN</td>\n",
       "    </tr>\n",
       "    <tr>\n",
       "      <th>1108</th>\n",
       "      <td>NaN</td>\n",
       "      <td>-13.731001</td>\n",
       "      <td>NaN</td>\n",
       "      <td>NaN</td>\n",
       "      <td>NaN</td>\n",
       "      <td>NaN</td>\n",
       "      <td>NaN</td>\n",
       "    </tr>\n",
       "  </tbody>\n",
       "</table>\n",
       "</div>"
      ],
      "text/plain": [
       "class   1          2         3         4         5   6   7\n",
       "公司                                                        \n",
       "1101  NaN        NaN  3.149633       NaN       NaN NaN NaN\n",
       "1102  NaN  -2.597380       NaN       NaN       NaN NaN NaN\n",
       "1103  NaN        NaN       NaN  1.337646       NaN NaN NaN\n",
       "1104  NaN        NaN       NaN       NaN  8.866849 NaN NaN\n",
       "1108  NaN -13.731001       NaN       NaN       NaN NaN NaN"
      ]
     },
     "execution_count": 74,
     "metadata": {},
     "output_type": "execute_result"
    }
   ],
   "source": [
    "df_fordraw2_2 = df_fordraw2_1.pivot_table(index='公司', columns='class', values='R1')\n",
    "df_fordraw2_2.head()"
   ]
  },
  {
   "cell_type": "code",
   "execution_count": 75,
   "metadata": {},
   "outputs": [
    {
     "data": {
      "text/html": [
       "<div>\n",
       "<style scoped>\n",
       "    .dataframe tbody tr th:only-of-type {\n",
       "        vertical-align: middle;\n",
       "    }\n",
       "\n",
       "    .dataframe tbody tr th {\n",
       "        vertical-align: top;\n",
       "    }\n",
       "\n",
       "    .dataframe thead th {\n",
       "        text-align: right;\n",
       "    }\n",
       "</style>\n",
       "<table border=\"1\" class=\"dataframe\">\n",
       "  <thead>\n",
       "    <tr style=\"text-align: right;\">\n",
       "      <th>class</th>\n",
       "      <th>1</th>\n",
       "      <th>2</th>\n",
       "      <th>3</th>\n",
       "      <th>4</th>\n",
       "      <th>5</th>\n",
       "      <th>6</th>\n",
       "      <th>7</th>\n",
       "    </tr>\n",
       "    <tr>\n",
       "      <th>公司</th>\n",
       "      <th></th>\n",
       "      <th></th>\n",
       "      <th></th>\n",
       "      <th></th>\n",
       "      <th></th>\n",
       "      <th></th>\n",
       "      <th></th>\n",
       "    </tr>\n",
       "  </thead>\n",
       "  <tbody>\n",
       "    <tr>\n",
       "      <th>1101</th>\n",
       "      <td>NaN</td>\n",
       "      <td>NaN</td>\n",
       "      <td>3.149633</td>\n",
       "      <td>NaN</td>\n",
       "      <td>NaN</td>\n",
       "      <td>NaN</td>\n",
       "      <td>NaN</td>\n",
       "    </tr>\n",
       "    <tr>\n",
       "      <th>1102</th>\n",
       "      <td>NaN</td>\n",
       "      <td>-2.597380</td>\n",
       "      <td>NaN</td>\n",
       "      <td>NaN</td>\n",
       "      <td>NaN</td>\n",
       "      <td>NaN</td>\n",
       "      <td>NaN</td>\n",
       "    </tr>\n",
       "    <tr>\n",
       "      <th>1103</th>\n",
       "      <td>NaN</td>\n",
       "      <td>NaN</td>\n",
       "      <td>NaN</td>\n",
       "      <td>1.337646</td>\n",
       "      <td>NaN</td>\n",
       "      <td>NaN</td>\n",
       "      <td>NaN</td>\n",
       "    </tr>\n",
       "    <tr>\n",
       "      <th>1104</th>\n",
       "      <td>NaN</td>\n",
       "      <td>NaN</td>\n",
       "      <td>NaN</td>\n",
       "      <td>NaN</td>\n",
       "      <td>8.866849</td>\n",
       "      <td>NaN</td>\n",
       "      <td>NaN</td>\n",
       "    </tr>\n",
       "    <tr>\n",
       "      <th>1108</th>\n",
       "      <td>NaN</td>\n",
       "      <td>-13.731001</td>\n",
       "      <td>NaN</td>\n",
       "      <td>NaN</td>\n",
       "      <td>NaN</td>\n",
       "      <td>NaN</td>\n",
       "      <td>NaN</td>\n",
       "    </tr>\n",
       "  </tbody>\n",
       "</table>\n",
       "</div>"
      ],
      "text/plain": [
       "class   1          2         3         4         5   6   7\n",
       "公司                                                        \n",
       "1101  NaN        NaN  3.149633       NaN       NaN NaN NaN\n",
       "1102  NaN  -2.597380       NaN       NaN       NaN NaN NaN\n",
       "1103  NaN        NaN       NaN  1.337646       NaN NaN NaN\n",
       "1104  NaN        NaN       NaN       NaN  8.866849 NaN NaN\n",
       "1108  NaN -13.731001       NaN       NaN       NaN NaN NaN"
      ]
     },
     "execution_count": 75,
     "metadata": {},
     "output_type": "execute_result"
    }
   ],
   "source": [
    "df_fordraw2_3 = df_fordraw2_1.pivot_table(index='公司', columns='class', values='R2')\n",
    "df_fordraw2_2.head()"
   ]
  },
  {
   "cell_type": "code",
   "execution_count": 77,
   "metadata": {},
   "outputs": [
    {
     "data": {
      "text/plain": [
       "Text(0.5, 0.98, 'OperatingCash growth/Quarter revenue growth1')"
      ]
     },
     "execution_count": 77,
     "metadata": {},
     "output_type": "execute_result"
    },
    {
     "data": {
      "image/png": "[encoded data removed]",
      "text/plain": [
       "<Figure size 720x720 with 1 Axes>"
      ]
     },
     "metadata": {
      "needs_background": "light"
     },
     "output_type": "display_data"
    }
   ],
   "source": [
    "df_fordraw2_3.boxplot(figsize=(10,10))\n",
    "plt.axis([0, 8, -10, 10])\n",
    "plt.suptitle('OperatingCash growth/Quarter revenue growth', fontsize=16)"
   ]
  },
  {
   "cell_type": "code",
   "execution_count": 78,
   "metadata": {},
   "outputs": [
    {
     "data": {
      "text/plain": [
       "Text(0.5, 0.98, 'OperatingCash growth/Quarter revenue growth2')"
      ]
     },
     "execution_count": 78,
     "metadata": {},
     "output_type": "execute_result"
    },
    {
     "data": {
      "image/png": "[encoded data removed]",
      "text/plain": [
       "<Figure size 720x720 with 1 Axes>"
      ]
     },
     "metadata": {
      "needs_background": "light"
     },
     "output_type": "display_data"
    }
   ],
   "source": [
    "df_fordraw2_2.boxplot(figsize=(10,10))\n",
    "plt.axis([0, 8, -20, 20])\n",
    "plt.suptitle('OperatingCash growth/Quarter revenue growth2', fontsize=16)"
   ]
  },
  {
   "cell_type": "markdown",
   "metadata": {},
   "source": [
    "#### 分析3：應收帳款及營收"
   ]
  },
  {
   "cell_type": "code",
   "execution_count": 79,
   "metadata": {},
   "outputs": [],
   "source": [
    "df_rev_and_AR = pd.concat([df_AR_Qgrowth, df_rev_Qgrowth, df_class], axis=1)"
   ]
  },
  {
   "cell_type": "code",
   "execution_count": 80,
   "metadata": {},
   "outputs": [
    {
     "data": {
      "text/html": [
       "<div>\n",
       "<style scoped>\n",
       "    .dataframe tbody tr th:only-of-type {\n",
       "        vertical-align: middle;\n",
       "    }\n",
       "\n",
       "    .dataframe tbody tr th {\n",
       "        vertical-align: top;\n",
       "    }\n",
       "\n",
       "    .dataframe thead th {\n",
       "        text-align: right;\n",
       "    }\n",
       "</style>\n",
       "<table border=\"1\" class=\"dataframe\">\n",
       "  <thead>\n",
       "    <tr style=\"text-align: right;\">\n",
       "      <th></th>\n",
       "      <th>ARQ1-Q2</th>\n",
       "      <th>ARQ2-Q3</th>\n",
       "      <th>ARQ3-Q4</th>\n",
       "      <th>REQ1-Q2</th>\n",
       "      <th>REQ2-Q3</th>\n",
       "      <th>REQ3-Q4</th>\n",
       "      <th>簡稱</th>\n",
       "      <th>class</th>\n",
       "    </tr>\n",
       "    <tr>\n",
       "      <th>公司</th>\n",
       "      <th></th>\n",
       "      <th></th>\n",
       "      <th></th>\n",
       "      <th></th>\n",
       "      <th></th>\n",
       "      <th></th>\n",
       "      <th></th>\n",
       "      <th></th>\n",
       "    </tr>\n",
       "  </thead>\n",
       "  <tbody>\n",
       "    <tr>\n",
       "      <th>1101</th>\n",
       "      <td>1.050371</td>\n",
       "      <td>1.104213</td>\n",
       "      <td>1.197307</td>\n",
       "      <td>1.040968</td>\n",
       "      <td>0.960342</td>\n",
       "      <td>1.306700</td>\n",
       "      <td>台泥</td>\n",
       "      <td>3</td>\n",
       "    </tr>\n",
       "    <tr>\n",
       "      <th>1102</th>\n",
       "      <td>1.035034</td>\n",
       "      <td>1.132706</td>\n",
       "      <td>1.106051</td>\n",
       "      <td>1.202404</td>\n",
       "      <td>1.048998</td>\n",
       "      <td>1.195903</td>\n",
       "      <td>亞泥</td>\n",
       "      <td>2</td>\n",
       "    </tr>\n",
       "    <tr>\n",
       "      <th>1103</th>\n",
       "      <td>0.672566</td>\n",
       "      <td>3.327217</td>\n",
       "      <td>0.371519</td>\n",
       "      <td>0.964488</td>\n",
       "      <td>1.079968</td>\n",
       "      <td>1.029313</td>\n",
       "      <td>嘉泥</td>\n",
       "      <td>4</td>\n",
       "    </tr>\n",
       "    <tr>\n",
       "      <th>1104</th>\n",
       "      <td>0.927849</td>\n",
       "      <td>1.070259</td>\n",
       "      <td>1.089646</td>\n",
       "      <td>0.966789</td>\n",
       "      <td>1.045218</td>\n",
       "      <td>1.122308</td>\n",
       "      <td>環泥</td>\n",
       "      <td>5</td>\n",
       "    </tr>\n",
       "    <tr>\n",
       "      <th>1108</th>\n",
       "      <td>0.913923</td>\n",
       "      <td>0.956130</td>\n",
       "      <td>0.989520</td>\n",
       "      <td>0.975038</td>\n",
       "      <td>0.968916</td>\n",
       "      <td>1.061254</td>\n",
       "      <td>幸福</td>\n",
       "      <td>2</td>\n",
       "    </tr>\n",
       "  </tbody>\n",
       "</table>\n",
       "</div>"
      ],
      "text/plain": [
       "       ARQ1-Q2   ARQ2-Q3   ARQ3-Q4   REQ1-Q2   REQ2-Q3   REQ3-Q4  簡稱 class\n",
       "公司                                                                        \n",
       "1101  1.050371  1.104213  1.197307  1.040968  0.960342  1.306700  台泥     3\n",
       "1102  1.035034  1.132706  1.106051  1.202404  1.048998  1.195903  亞泥     2\n",
       "1103  0.672566  3.327217  0.371519  0.964488  1.079968  1.029313  嘉泥     4\n",
       "1104  0.927849  1.070259  1.089646  0.966789  1.045218  1.122308  環泥     5\n",
       "1108  0.913923  0.956130  0.989520  0.975038  0.968916  1.061254  幸福     2"
      ]
     },
     "execution_count": 80,
     "metadata": {},
     "output_type": "execute_result"
    }
   ],
   "source": [
    "df_rev_and_AR.head()"
   ]
  },
  {
   "cell_type": "code",
   "execution_count": 81,
   "metadata": {},
   "outputs": [],
   "source": [
    "df_rev_and_AR['R1'] = df_rev_and_AR['ARQ1-Q2'] / df_rev_and_AR['REQ1-Q2']\n",
    "df_rev_and_AR['R2'] = df_rev_and_AR['ARQ2-Q3'] / df_rev_and_AR['REQ2-Q3']\n",
    "df_rev_and_AR['R3'] = df_rev_and_AR['ARQ3-Q4'] / df_rev_and_AR['REQ3-Q4']"
   ]
  },
  {
   "cell_type": "code",
   "execution_count": 82,
   "metadata": {},
   "outputs": [
    {
     "data": {
      "text/html": [
       "<div>\n",
       "<style scoped>\n",
       "    .dataframe tbody tr th:only-of-type {\n",
       "        vertical-align: middle;\n",
       "    }\n",
       "\n",
       "    .dataframe tbody tr th {\n",
       "        vertical-align: top;\n",
       "    }\n",
       "\n",
       "    .dataframe thead th {\n",
       "        text-align: right;\n",
       "    }\n",
       "</style>\n",
       "<table border=\"1\" class=\"dataframe\">\n",
       "  <thead>\n",
       "    <tr style=\"text-align: right;\">\n",
       "      <th></th>\n",
       "      <th>ARQ1-Q2</th>\n",
       "      <th>ARQ2-Q3</th>\n",
       "      <th>ARQ3-Q4</th>\n",
       "      <th>REQ1-Q2</th>\n",
       "      <th>REQ2-Q3</th>\n",
       "      <th>REQ3-Q4</th>\n",
       "      <th>簡稱</th>\n",
       "      <th>class</th>\n",
       "      <th>R1</th>\n",
       "      <th>R2</th>\n",
       "      <th>R3</th>\n",
       "    </tr>\n",
       "    <tr>\n",
       "      <th>公司</th>\n",
       "      <th></th>\n",
       "      <th></th>\n",
       "      <th></th>\n",
       "      <th></th>\n",
       "      <th></th>\n",
       "      <th></th>\n",
       "      <th></th>\n",
       "      <th></th>\n",
       "      <th></th>\n",
       "      <th></th>\n",
       "      <th></th>\n",
       "    </tr>\n",
       "  </thead>\n",
       "  <tbody>\n",
       "    <tr>\n",
       "      <th>1101</th>\n",
       "      <td>1.050371</td>\n",
       "      <td>1.104213</td>\n",
       "      <td>1.197307</td>\n",
       "      <td>1.040968</td>\n",
       "      <td>0.960342</td>\n",
       "      <td>1.306700</td>\n",
       "      <td>台泥</td>\n",
       "      <td>3</td>\n",
       "      <td>1.009032</td>\n",
       "      <td>1.149812</td>\n",
       "      <td>0.916283</td>\n",
       "    </tr>\n",
       "    <tr>\n",
       "      <th>1102</th>\n",
       "      <td>1.035034</td>\n",
       "      <td>1.132706</td>\n",
       "      <td>1.106051</td>\n",
       "      <td>1.202404</td>\n",
       "      <td>1.048998</td>\n",
       "      <td>1.195903</td>\n",
       "      <td>亞泥</td>\n",
       "      <td>2</td>\n",
       "      <td>0.860804</td>\n",
       "      <td>1.079798</td>\n",
       "      <td>0.924866</td>\n",
       "    </tr>\n",
       "    <tr>\n",
       "      <th>1103</th>\n",
       "      <td>0.672566</td>\n",
       "      <td>3.327217</td>\n",
       "      <td>0.371519</td>\n",
       "      <td>0.964488</td>\n",
       "      <td>1.079968</td>\n",
       "      <td>1.029313</td>\n",
       "      <td>嘉泥</td>\n",
       "      <td>4</td>\n",
       "      <td>0.697330</td>\n",
       "      <td>3.080848</td>\n",
       "      <td>0.360939</td>\n",
       "    </tr>\n",
       "    <tr>\n",
       "      <th>1104</th>\n",
       "      <td>0.927849</td>\n",
       "      <td>1.070259</td>\n",
       "      <td>1.089646</td>\n",
       "      <td>0.966789</td>\n",
       "      <td>1.045218</td>\n",
       "      <td>1.122308</td>\n",
       "      <td>環泥</td>\n",
       "      <td>5</td>\n",
       "      <td>0.959722</td>\n",
       "      <td>1.023957</td>\n",
       "      <td>0.970898</td>\n",
       "    </tr>\n",
       "    <tr>\n",
       "      <th>1108</th>\n",
       "      <td>0.913923</td>\n",
       "      <td>0.956130</td>\n",
       "      <td>0.989520</td>\n",
       "      <td>0.975038</td>\n",
       "      <td>0.968916</td>\n",
       "      <td>1.061254</td>\n",
       "      <td>幸福</td>\n",
       "      <td>2</td>\n",
       "      <td>0.937320</td>\n",
       "      <td>0.986804</td>\n",
       "      <td>0.932406</td>\n",
       "    </tr>\n",
       "  </tbody>\n",
       "</table>\n",
       "</div>"
      ],
      "text/plain": [
       "       ARQ1-Q2   ARQ2-Q3   ARQ3-Q4   REQ1-Q2   REQ2-Q3   REQ3-Q4  簡稱 class  \\\n",
       "公司                                                                           \n",
       "1101  1.050371  1.104213  1.197307  1.040968  0.960342  1.306700  台泥     3   \n",
       "1102  1.035034  1.132706  1.106051  1.202404  1.048998  1.195903  亞泥     2   \n",
       "1103  0.672566  3.327217  0.371519  0.964488  1.079968  1.029313  嘉泥     4   \n",
       "1104  0.927849  1.070259  1.089646  0.966789  1.045218  1.122308  環泥     5   \n",
       "1108  0.913923  0.956130  0.989520  0.975038  0.968916  1.061254  幸福     2   \n",
       "\n",
       "            R1        R2        R3  \n",
       "公司                                  \n",
       "1101  1.009032  1.149812  0.916283  \n",
       "1102  0.860804  1.079798  0.924866  \n",
       "1103  0.697330  3.080848  0.360939  \n",
       "1104  0.959722  1.023957  0.970898  \n",
       "1108  0.937320  0.986804  0.932406  "
      ]
     },
     "execution_count": 82,
     "metadata": {},
     "output_type": "execute_result"
    }
   ],
   "source": [
    "df_rev_and_AR.head()"
   ]
  },
  {
   "cell_type": "code",
   "execution_count": 83,
   "metadata": {},
   "outputs": [
    {
     "data": {
      "text/html": [
       "<div>\n",
       "<style scoped>\n",
       "    .dataframe tbody tr th:only-of-type {\n",
       "        vertical-align: middle;\n",
       "    }\n",
       "\n",
       "    .dataframe tbody tr th {\n",
       "        vertical-align: top;\n",
       "    }\n",
       "\n",
       "    .dataframe thead th {\n",
       "        text-align: right;\n",
       "    }\n",
       "</style>\n",
       "<table border=\"1\" class=\"dataframe\">\n",
       "  <thead>\n",
       "    <tr style=\"text-align: right;\">\n",
       "      <th></th>\n",
       "      <th>class</th>\n",
       "      <th>R1</th>\n",
       "      <th>R2</th>\n",
       "      <th>R3</th>\n",
       "    </tr>\n",
       "    <tr>\n",
       "      <th>公司</th>\n",
       "      <th></th>\n",
       "      <th></th>\n",
       "      <th></th>\n",
       "      <th></th>\n",
       "    </tr>\n",
       "  </thead>\n",
       "  <tbody>\n",
       "    <tr>\n",
       "      <th>1101</th>\n",
       "      <td>3</td>\n",
       "      <td>1.009032</td>\n",
       "      <td>1.149812</td>\n",
       "      <td>0.916283</td>\n",
       "    </tr>\n",
       "    <tr>\n",
       "      <th>1102</th>\n",
       "      <td>2</td>\n",
       "      <td>0.860804</td>\n",
       "      <td>1.079798</td>\n",
       "      <td>0.924866</td>\n",
       "    </tr>\n",
       "    <tr>\n",
       "      <th>1103</th>\n",
       "      <td>4</td>\n",
       "      <td>0.697330</td>\n",
       "      <td>3.080848</td>\n",
       "      <td>0.360939</td>\n",
       "    </tr>\n",
       "    <tr>\n",
       "      <th>1104</th>\n",
       "      <td>5</td>\n",
       "      <td>0.959722</td>\n",
       "      <td>1.023957</td>\n",
       "      <td>0.970898</td>\n",
       "    </tr>\n",
       "    <tr>\n",
       "      <th>1108</th>\n",
       "      <td>2</td>\n",
       "      <td>0.937320</td>\n",
       "      <td>0.986804</td>\n",
       "      <td>0.932406</td>\n",
       "    </tr>\n",
       "  </tbody>\n",
       "</table>\n",
       "</div>"
      ],
      "text/plain": [
       "     class        R1        R2        R3\n",
       "公司                                      \n",
       "1101     3  1.009032  1.149812  0.916283\n",
       "1102     2  0.860804  1.079798  0.924866\n",
       "1103     4  0.697330  3.080848  0.360939\n",
       "1104     5  0.959722  1.023957  0.970898\n",
       "1108     2  0.937320  0.986804  0.932406"
      ]
     },
     "execution_count": 83,
     "metadata": {},
     "output_type": "execute_result"
    }
   ],
   "source": [
    "df_fordraw3_1 = df_rev_and_AR.iloc[:,7:]\n",
    "df_fordraw3_1.head()"
   ]
  },
  {
   "cell_type": "code",
   "execution_count": 84,
   "metadata": {},
   "outputs": [
    {
     "data": {
      "text/html": [
       "<div>\n",
       "<style scoped>\n",
       "    .dataframe tbody tr th:only-of-type {\n",
       "        vertical-align: middle;\n",
       "    }\n",
       "\n",
       "    .dataframe tbody tr th {\n",
       "        vertical-align: top;\n",
       "    }\n",
       "\n",
       "    .dataframe thead th {\n",
       "        text-align: right;\n",
       "    }\n",
       "</style>\n",
       "<table border=\"1\" class=\"dataframe\">\n",
       "  <thead>\n",
       "    <tr style=\"text-align: right;\">\n",
       "      <th>class</th>\n",
       "      <th>1</th>\n",
       "      <th>2</th>\n",
       "      <th>3</th>\n",
       "      <th>4</th>\n",
       "      <th>5</th>\n",
       "      <th>6</th>\n",
       "      <th>7</th>\n",
       "    </tr>\n",
       "    <tr>\n",
       "      <th>公司</th>\n",
       "      <th></th>\n",
       "      <th></th>\n",
       "      <th></th>\n",
       "      <th></th>\n",
       "      <th></th>\n",
       "      <th></th>\n",
       "      <th></th>\n",
       "    </tr>\n",
       "  </thead>\n",
       "  <tbody>\n",
       "    <tr>\n",
       "      <th>1101</th>\n",
       "      <td>NaN</td>\n",
       "      <td>NaN</td>\n",
       "      <td>3.149633</td>\n",
       "      <td>NaN</td>\n",
       "      <td>NaN</td>\n",
       "      <td>NaN</td>\n",
       "      <td>NaN</td>\n",
       "    </tr>\n",
       "    <tr>\n",
       "      <th>1102</th>\n",
       "      <td>NaN</td>\n",
       "      <td>-2.597380</td>\n",
       "      <td>NaN</td>\n",
       "      <td>NaN</td>\n",
       "      <td>NaN</td>\n",
       "      <td>NaN</td>\n",
       "      <td>NaN</td>\n",
       "    </tr>\n",
       "    <tr>\n",
       "      <th>1103</th>\n",
       "      <td>NaN</td>\n",
       "      <td>NaN</td>\n",
       "      <td>NaN</td>\n",
       "      <td>1.337646</td>\n",
       "      <td>NaN</td>\n",
       "      <td>NaN</td>\n",
       "      <td>NaN</td>\n",
       "    </tr>\n",
       "    <tr>\n",
       "      <th>1104</th>\n",
       "      <td>NaN</td>\n",
       "      <td>NaN</td>\n",
       "      <td>NaN</td>\n",
       "      <td>NaN</td>\n",
       "      <td>8.866849</td>\n",
       "      <td>NaN</td>\n",
       "      <td>NaN</td>\n",
       "    </tr>\n",
       "    <tr>\n",
       "      <th>1108</th>\n",
       "      <td>NaN</td>\n",
       "      <td>-13.731001</td>\n",
       "      <td>NaN</td>\n",
       "      <td>NaN</td>\n",
       "      <td>NaN</td>\n",
       "      <td>NaN</td>\n",
       "      <td>NaN</td>\n",
       "    </tr>\n",
       "  </tbody>\n",
       "</table>\n",
       "</div>"
      ],
      "text/plain": [
       "class   1          2         3         4         5   6   7\n",
       "公司                                                        \n",
       "1101  NaN        NaN  3.149633       NaN       NaN NaN NaN\n",
       "1102  NaN  -2.597380       NaN       NaN       NaN NaN NaN\n",
       "1103  NaN        NaN       NaN  1.337646       NaN NaN NaN\n",
       "1104  NaN        NaN       NaN       NaN  8.866849 NaN NaN\n",
       "1108  NaN -13.731001       NaN       NaN       NaN NaN NaN"
      ]
     },
     "execution_count": 84,
     "metadata": {},
     "output_type": "execute_result"
    }
   ],
   "source": [
    "df_fordraw3_2 = df_fordraw2_1.pivot_table(index='公司', columns='class', values='R1')\n",
    "df_fordraw3_2.head()"
   ]
  },
  {
   "cell_type": "code",
   "execution_count": 87,
   "metadata": {},
   "outputs": [
    {
     "data": {
      "text/plain": [
       "Text(0.5, 0.98, 'Account Receivables growth/Quarter revenue growth')"
      ]
     },
     "execution_count": 87,
     "metadata": {},
     "output_type": "execute_result"
    },
    {
     "data": {
      "image/png": "[encoded data removed]",
      "text/plain": [
       "<Figure size 720x720 with 1 Axes>"
      ]
     },
     "metadata": {
      "needs_background": "light"
     },
     "output_type": "display_data"
    }
   ],
   "source": [
    "df_fordraw3_2.boxplot(figsize=(10,10))\n",
    "plt.axis([0, 8, -5, 5])\n",
    "plt.suptitle('Account Receivables growth/Quarter revenue growth', fontsize=16)"
   ]
  },
  {
   "cell_type": "code",
   "execution_count": 95,
   "metadata": {},
   "outputs": [
    {
     "name": "stdout",
     "output_type": "stream",
     "text": [
      "99 400\n",
      "[100, 121, 144, 169, 196, 225, 256, 289, 324, 361, 400]\n",
      "11\n"
     ]
    }
   ],
   "source": [
    "number = [int(w) for w in input().split(\" \")]\n",
    "square = [ i*i for i in range(0, number[1]) if number [0] <= i*i <= number[1]]\n",
    "\n",
    "\n",
    "print(square)\n",
    "print(len(square))"
   ]
  }
 ],
 "metadata": {
  "kernelspec": {
   "display_name": "Python 3",
   "language": "python",
   "name": "python3"
  },
  "language_info": {
   "codemirror_mode": {
    "name": "ipython",
    "version": 3
   },
   "file_extension": ".py",
   "mimetype": "text/x-python",
   "name": "python",
   "nbconvert_exporter": "python",
   "pygments_lexer": "ipython3",
   "version": "3.7.3"
  }
 },
 "nbformat": 4,
 "nbformat_minor": 2
}
